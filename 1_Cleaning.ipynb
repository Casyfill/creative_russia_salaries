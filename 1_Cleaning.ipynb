{
 "cells": [
  {
   "cell_type": "markdown",
   "metadata": {},
   "source": [
    "## ROADMAP\n",
    "\n",
    "- [x] years in company vs salary vs sex\n",
    "- [x] experience vs salary vs sex\n",
    "- [x] outliers\n",
    "- [x] clean (bin) position\n",
    "- [x] clean (bin) geography\n",
    "- [ ] clean (bin) industry (design vs dev vs .. )\n",
    "- [ ] correlations\n",
    "- [ ] model\n",
    "- [ ] report"
   ]
  },
  {
   "cell_type": "code",
   "execution_count": 1,
   "metadata": {
    "collapsed": false
   },
   "outputs": [
    {
     "name": "stdout",
     "output_type": "stream",
     "text": [
      "Populating the interactive namespace from numpy and matplotlib\n"
     ]
    },
    {
     "name": "stderr",
     "output_type": "stream",
     "text": [
      "/Users/casy/anaconda/lib/python2.7/site-packages/matplotlib/__init__.py:872: UserWarning: axes.color_cycle is deprecated and replaced with axes.prop_cycle; please use the latter.\n",
      "  warnings.warn(self.msg_depr % (key, alt_key))\n"
     ]
    }
   ],
   "source": [
    "import pandas as pd\n",
    "import numpy as np\n",
    "\n",
    "%pylab inline\n",
    "import matplotlib.pyplot as plt\n",
    "from ipynotifyer import notifyOnComplete as nf\n",
    "\n",
    "import seaborn as sb"
   ]
  },
  {
   "cell_type": "code",
   "execution_count": 2,
   "metadata": {
    "collapsed": false
   },
   "outputs": [],
   "source": [
    "# # recent\n",
    "path = 'https://dl.dropboxusercontent.com/u/7604347/Зарплаты%20-%20Form%20responses%201.csv'\n",
    "df = pd.read_csv(path, encoding='utf8')\n",
    "# df.to_csv('data/recent_salaries.csv', encoding='utf8')"
   ]
  },
  {
   "cell_type": "code",
   "execution_count": 3,
   "metadata": {
    "collapsed": false
   },
   "outputs": [],
   "source": [
    "# df = pd.read_csv('data/2016_04_9_salaries.csv', encoding='utf8')"
   ]
  },
  {
   "cell_type": "code",
   "execution_count": 4,
   "metadata": {
    "collapsed": false
   },
   "outputs": [
    {
     "data": {
      "text/plain": [
       "639"
      ]
     },
     "execution_count": 4,
     "metadata": {},
     "output_type": "execute_result"
    }
   ],
   "source": [
    "len(df)"
   ]
  },
  {
   "cell_type": "markdown",
   "metadata": {},
   "source": [
    "## Rename columns"
   ]
  },
  {
   "cell_type": "code",
   "execution_count": 5,
   "metadata": {
    "collapsed": false
   },
   "outputs": [
    {
     "data": {
      "text/plain": [
       "Index([u'Timestamp', u'Работодатель', u'Город', u'Должность', u'Обязанности',\n",
       "       u'Стаж в компании (лет)', u'Профессиональный стаж (лет)',\n",
       "       u'Укажите вашу зарплату со всеми нулями (!) в месяц в валюте, которую вы выбрали выше (после вычета налогов)',\n",
       "       u'Ежемесячный бонус в валюте, которую вы выбрали выше',\n",
       "       u'Годовая премия в валюте, которую вы выбрали выше', u'Пол',\n",
       "       u'Комментарий', u'Выберите в какой валюте вы получаете зарплату.'],\n",
       "      dtype='object')"
      ]
     },
     "execution_count": 5,
     "metadata": {},
     "output_type": "execute_result"
    }
   ],
   "source": [
    "df.columns"
   ]
  },
  {
   "cell_type": "code",
   "execution_count": 6,
   "metadata": {
    "collapsed": false
   },
   "outputs": [],
   "source": [
    "df.columns = ('ts','company','city','position',\n",
    "              'job', 'Yexp', 'Pexp', 'salary',\n",
    "              'mBonus', 'yBonus','gender','coment',\n",
    "             'currency')"
   ]
  },
  {
   "cell_type": "code",
   "execution_count": 7,
   "metadata": {
    "collapsed": false
   },
   "outputs": [
    {
     "data": {
      "text/html": [
       "<div>\n",
       "<table border=\"1\" class=\"dataframe\">\n",
       "  <thead>\n",
       "    <tr style=\"text-align: right;\">\n",
       "      <th></th>\n",
       "      <th>ts</th>\n",
       "      <th>company</th>\n",
       "      <th>city</th>\n",
       "      <th>position</th>\n",
       "      <th>job</th>\n",
       "      <th>Yexp</th>\n",
       "      <th>Pexp</th>\n",
       "      <th>salary</th>\n",
       "      <th>mBonus</th>\n",
       "      <th>yBonus</th>\n",
       "      <th>gender</th>\n",
       "      <th>coment</th>\n",
       "      <th>currency</th>\n",
       "    </tr>\n",
       "  </thead>\n",
       "  <tbody>\n",
       "    <tr>\n",
       "      <th>0</th>\n",
       "      <td>22/03/2016 19:06:07</td>\n",
       "      <td>NaN</td>\n",
       "      <td>NaN</td>\n",
       "      <td>Дизайнер мобильных приложений</td>\n",
       "      <td>iOS &amp; Android</td>\n",
       "      <td>1.55</td>\n",
       "      <td>5</td>\n",
       "      <td>130000</td>\n",
       "      <td>NaN</td>\n",
       "      <td>NaN</td>\n",
       "      <td>Мужчина</td>\n",
       "      <td>NaN</td>\n",
       "      <td>Рубли</td>\n",
       "    </tr>\n",
       "    <tr>\n",
       "      <th>1</th>\n",
       "      <td>22/03/2016 19:06:46</td>\n",
       "      <td>NaN</td>\n",
       "      <td>Санкт-Петербург</td>\n",
       "      <td>Дизайнер интерфейсов</td>\n",
       "      <td>Интерфейсы для веба, визуализация данных</td>\n",
       "      <td>0.25</td>\n",
       "      <td>4</td>\n",
       "      <td>80000</td>\n",
       "      <td>NaN</td>\n",
       "      <td>NaN</td>\n",
       "      <td>Мужчина</td>\n",
       "      <td>NaN</td>\n",
       "      <td>Рубли</td>\n",
       "    </tr>\n",
       "  </tbody>\n",
       "</table>\n",
       "</div>"
      ],
      "text/plain": [
       "                    ts company             city  \\\n",
       "0  22/03/2016 19:06:07     NaN              NaN   \n",
       "1  22/03/2016 19:06:46     NaN  Санкт-Петербург   \n",
       "\n",
       "                        position                                       job  \\\n",
       "0  Дизайнер мобильных приложений                             iOS & Android   \n",
       "1           Дизайнер интерфейсов  Интерфейсы для веба, визуализация данных   \n",
       "\n",
       "   Yexp Pexp  salary mBonus yBonus   gender coment currency  \n",
       "0  1.55    5  130000    NaN    NaN  Мужчина    NaN    Рубли  \n",
       "1  0.25    4   80000    NaN    NaN  Мужчина    NaN    Рубли  "
      ]
     },
     "execution_count": 7,
     "metadata": {},
     "output_type": "execute_result"
    }
   ],
   "source": [
    "df.head(2)"
   ]
  },
  {
   "cell_type": "markdown",
   "metadata": {},
   "source": [
    "## Income"
   ]
  },
  {
   "cell_type": "code",
   "execution_count": 8,
   "metadata": {
    "collapsed": false
   },
   "outputs": [
    {
     "data": {
      "text/plain": [
       "Рубли      539\n",
       "Доллары    100\n",
       "Name: currency, dtype: int64"
      ]
     },
     "execution_count": 8,
     "metadata": {},
     "output_type": "execute_result"
    }
   ],
   "source": [
    "df.currency.value_counts()"
   ]
  },
  {
   "cell_type": "code",
   "execution_count": 9,
   "metadata": {
    "collapsed": false
   },
   "outputs": [],
   "source": [
    "def Yincome(x):\n",
    "    '''\n",
    "    total year income,\n",
    "    using 1$ = 70rub,\n",
    "    in rubles\n",
    "    '''\n",
    "    income = 12*(x.salary + x.mBonus) + x.yBonus\n",
    "    \n",
    "    if x.currency == u'Доллары':\n",
    "#         print '$$$'\n",
    "        income = income * 70\n",
    "    \n",
    "    return income   "
   ]
  },
  {
   "cell_type": "code",
   "execution_count": 10,
   "metadata": {
    "collapsed": false
   },
   "outputs": [],
   "source": [
    "for key in ('yBonus','mBonus','salary','Yexp','Pexp'):\n",
    "    df[key] = pd.to_numeric(df[key], errors='coerse').fillna(0)\n"
   ]
  },
  {
   "cell_type": "code",
   "execution_count": 11,
   "metadata": {
    "collapsed": false
   },
   "outputs": [],
   "source": [
    "df['income'] = df.apply(Yincome, 1)"
   ]
  },
  {
   "cell_type": "markdown",
   "metadata": {},
   "source": [
    "## Gender"
   ]
  },
  {
   "cell_type": "code",
   "execution_count": 12,
   "metadata": {
    "collapsed": false
   },
   "outputs": [],
   "source": [
    "gender = {u'Мужчина':'male', u'Женщина':'female' }\n",
    "df['gender'] = df['gender'].apply(lambda x: gender.get(x, None))"
   ]
  },
  {
   "cell_type": "code",
   "execution_count": 13,
   "metadata": {
    "collapsed": false
   },
   "outputs": [
    {
     "data": {
      "text/plain": [
       "639"
      ]
     },
     "execution_count": 13,
     "metadata": {},
     "output_type": "execute_result"
    }
   ],
   "source": [
    "len(df)"
   ]
  },
  {
   "cell_type": "markdown",
   "metadata": {},
   "source": [
    "## Geography"
   ]
  },
  {
   "cell_type": "code",
   "execution_count": 14,
   "metadata": {
    "collapsed": false
   },
   "outputs": [
    {
     "data": {
      "text/plain": [
       "москва             267\n",
       "санкт-петербург     67\n",
       "ростов-на-дону      18\n",
       "moscow              13\n",
       "казань              13\n",
       "новосибирск         13\n",
       "екатеринбург        12\n",
       "киев                11\n",
       "минск               11\n",
       "воронеж              7\n",
       "Name: city, dtype: int64"
      ]
     },
     "execution_count": 14,
     "metadata": {},
     "output_type": "execute_result"
    }
   ],
   "source": [
    "df['city'] = df['city'].str.lower()\n",
    "df['city'].value_counts().head(10)"
   ]
  },
  {
   "cell_type": "code",
   "execution_count": 15,
   "metadata": {
    "collapsed": false
   },
   "outputs": [
    {
     "data": {
      "text/html": [
       "<div>\n",
       "<table border=\"1\" class=\"dataframe\">\n",
       "  <thead>\n",
       "    <tr style=\"text-align: right;\">\n",
       "      <th></th>\n",
       "      <th>raw</th>\n",
       "      <th>city</th>\n",
       "      <th>reg</th>\n",
       "    </tr>\n",
       "  </thead>\n",
       "  <tbody>\n",
       "    <tr>\n",
       "      <th>0</th>\n",
       "      <td>минск</td>\n",
       "      <td>Minsk</td>\n",
       "      <td>Belorus</td>\n",
       "    </tr>\n",
       "    <tr>\n",
       "      <th>2</th>\n",
       "      <td>almaty</td>\n",
       "      <td>Almaty</td>\n",
       "      <td>Russia</td>\n",
       "    </tr>\n",
       "  </tbody>\n",
       "</table>\n",
       "</div>"
      ],
      "text/plain": [
       "      raw    city      reg\n",
       "0   минск   Minsk  Belorus\n",
       "2  almaty  Almaty   Russia"
      ]
     },
     "execution_count": 15,
     "metadata": {},
     "output_type": "execute_result"
    }
   ],
   "source": [
    "path = 'data/2016_04_09_CR_Salaries.xlsx'\n",
    "geography = pd.read_excel(path, sheetname=1)[[u'raw', u'город', u'регион']]\n",
    "geography.columns = ['raw','city','reg']\n",
    "geography = geography[geography.city != 'uk']\n",
    "geography.head(2)"
   ]
  },
  {
   "cell_type": "code",
   "execution_count": 16,
   "metadata": {
    "collapsed": false
   },
   "outputs": [
    {
     "data": {
      "text/plain": [
       "639"
      ]
     },
     "execution_count": 16,
     "metadata": {},
     "output_type": "execute_result"
    }
   ],
   "source": [
    "len(df)"
   ]
  },
  {
   "cell_type": "code",
   "execution_count": 17,
   "metadata": {
    "collapsed": false
   },
   "outputs": [
    {
     "data": {
      "text/plain": [
       "Russia          65\n",
       "Ukraine         15\n",
       "Moscow           9\n",
       "Europe           7\n",
       "Belorus          5\n",
       "StPetersburg     4\n",
       "US               3\n",
       "ME               2\n",
       "?                2\n",
       "Asia             1\n",
       "Uzbekistan       1\n",
       "Name: reg, dtype: int64"
      ]
     },
     "execution_count": 17,
     "metadata": {},
     "output_type": "execute_result"
    }
   ],
   "source": [
    "geography.reg.value_counts()"
   ]
  },
  {
   "cell_type": "code",
   "execution_count": 18,
   "metadata": {
    "collapsed": true
   },
   "outputs": [],
   "source": [
    "df = df.merge(geography, how='left', left_on='city',right_on='raw')\n",
    "df.drop('raw', 1, inplace=1)"
   ]
  },
  {
   "cell_type": "code",
   "execution_count": 19,
   "metadata": {
    "collapsed": false
   },
   "outputs": [
    {
     "data": {
      "text/plain": [
       "Moscow          294\n",
       "Russia          153\n",
       "StPetersburg     74\n",
       "Ukraine          34\n",
       "Belorus          17\n",
       "Europe            7\n",
       "US                3\n",
       "?                 2\n",
       "ME                2\n",
       "Uzbekistan        1\n",
       "Asia              1\n",
       "Name: reg, dtype: int64"
      ]
     },
     "execution_count": 19,
     "metadata": {},
     "output_type": "execute_result"
    }
   ],
   "source": [
    "df.reg.value_counts()"
   ]
  },
  {
   "cell_type": "code",
   "execution_count": 20,
   "metadata": {
    "collapsed": false
   },
   "outputs": [
    {
     "data": {
      "text/plain": [
       "639"
      ]
     },
     "execution_count": 20,
     "metadata": {},
     "output_type": "execute_result"
    }
   ],
   "source": [
    "len(df)"
   ]
  },
  {
   "cell_type": "markdown",
   "metadata": {},
   "source": [
    "## Position"
   ]
  },
  {
   "cell_type": "code",
   "execution_count": 21,
   "metadata": {
    "collapsed": false
   },
   "outputs": [
    {
     "data": {
      "text/html": [
       "<div>\n",
       "<table border=\"1\" class=\"dataframe\">\n",
       "  <thead>\n",
       "    <tr style=\"text-align: right;\">\n",
       "      <th></th>\n",
       "      <th>raw</th>\n",
       "      <th>level</th>\n",
       "      <th>industry</th>\n",
       "    </tr>\n",
       "  </thead>\n",
       "  <tbody>\n",
       "    <tr>\n",
       "      <th>0</th>\n",
       "      <td>юрист</td>\n",
       "      <td>norm</td>\n",
       "      <td>loyer</td>\n",
       "    </tr>\n",
       "    <tr>\n",
       "      <th>1</th>\n",
       "      <td>-</td>\n",
       "      <td>norm</td>\n",
       "      <td>NaN</td>\n",
       "    </tr>\n",
       "    <tr>\n",
       "      <th>2</th>\n",
       "      <td>.NET разработчик</td>\n",
       "      <td>norm</td>\n",
       "      <td>web-dev</td>\n",
       "    </tr>\n",
       "    <tr>\n",
       "      <th>3</th>\n",
       "      <td>3d artist</td>\n",
       "      <td>norm</td>\n",
       "      <td>cg</td>\n",
       "    </tr>\n",
       "  </tbody>\n",
       "</table>\n",
       "</div>"
      ],
      "text/plain": [
       "                raw level industry\n",
       "0             юрист  norm    loyer\n",
       "1                 -  norm      NaN\n",
       "2  .NET разработчик  norm  web-dev\n",
       "3         3d artist  norm       cg"
      ]
     },
     "execution_count": 21,
     "metadata": {},
     "output_type": "execute_result"
    }
   ],
   "source": [
    "proff = pd.read_excel(path, header=None, sheetname=2)\n",
    "proff.columns = ['raw','do','','level','industry',None, None]\n",
    "proff = proff[['raw','level','industry']]\n",
    "proff.industry = proff.industry.str.lower()\n",
    "proff.head(4)"
   ]
  },
  {
   "cell_type": "markdown",
   "metadata": {},
   "source": [
    "## Industry"
   ]
  },
  {
   "cell_type": "code",
   "execution_count": 22,
   "metadata": {
    "collapsed": false
   },
   "outputs": [],
   "source": [
    "ind = {\n",
    "        'design' : [\n",
    "        'ux_design',\n",
    "        'g_design',\n",
    "        'web_design',\n",
    "        'product_design',\n",
    "        'graphic_design',\n",
    "        'web-design',\n",
    "        'cg',\n",
    "        'graph_design',\n",
    "        'app_design',\n",
    "        'game_designer',\n",
    "        'design',\n",
    "        'video'\n",
    "    ],\n",
    "\n",
    "    'dev' : [\n",
    "        'dev',\n",
    "        'web_dev',\n",
    "        'app_dev',\n",
    "        'engineer',\n",
    "        'sys',\n",
    "        'front-dev',\n",
    "        'web-dev'\n",
    "    ],\n",
    "\n",
    "    'management' : [\n",
    "        'management',\n",
    "        'sales',\n",
    "        'analysis',\n",
    "        'marketing',\n",
    "        'analyst',\n",
    "        'manager',\n",
    "        'account',\n",
    "        'accounting',\n",
    "        'analytics'\n",
    "    ],\n",
    "\n",
    "    'other' :  [\n",
    "        'content',\n",
    "        'academia',\n",
    "        'pr',\n",
    "        'layer',\n",
    "        'hr',\n",
    "        'buyer',\n",
    "        'loyer'\n",
    "    ]\n",
    "}\n",
    "\n",
    "def getIndustry(x):\n",
    "    '''\n",
    "    retrieve industry by raw cat\n",
    "    '''\n",
    "    for k, v in ind.iteritems():\n",
    "        if x in v:\n",
    "            return k\n",
    "    return None\n",
    "\n",
    "\n",
    "proff['ind'] = proff.industry.apply(getIndustry)"
   ]
  },
  {
   "cell_type": "code",
   "execution_count": 23,
   "metadata": {
    "collapsed": false
   },
   "outputs": [
    {
     "data": {
      "text/plain": [
       "639"
      ]
     },
     "execution_count": 23,
     "metadata": {},
     "output_type": "execute_result"
    }
   ],
   "source": [
    "len(df)"
   ]
  },
  {
   "cell_type": "code",
   "execution_count": 24,
   "metadata": {
    "collapsed": false
   },
   "outputs": [
    {
     "data": {
      "text/plain": [
       "design        350\n",
       "management    131\n",
       "dev           124\n",
       "other          35\n",
       "Name: ind, dtype: int64"
      ]
     },
     "execution_count": 24,
     "metadata": {},
     "output_type": "execute_result"
    }
   ],
   "source": [
    "proff.ind.value_counts()"
   ]
  },
  {
   "cell_type": "code",
   "execution_count": 25,
   "metadata": {
    "collapsed": true
   },
   "outputs": [],
   "source": [
    "proff.drop_duplicates(subset=('raw',), inplace=1)"
   ]
  },
  {
   "cell_type": "code",
   "execution_count": 26,
   "metadata": {
    "collapsed": false
   },
   "outputs": [],
   "source": [
    "df = df.merge(proff[['raw', 'ind']], how='left', left_on='position',right_on='raw')\n",
    "df.drop('raw', 1, inplace=1)"
   ]
  },
  {
   "cell_type": "code",
   "execution_count": 27,
   "metadata": {
    "collapsed": false
   },
   "outputs": [
    {
     "data": {
      "text/plain": [
       "639"
      ]
     },
     "execution_count": 27,
     "metadata": {},
     "output_type": "execute_result"
    }
   ],
   "source": [
    "len(df)"
   ]
  },
  {
   "cell_type": "code",
   "execution_count": 28,
   "metadata": {
    "collapsed": false
   },
   "outputs": [
    {
     "data": {
      "text/html": [
       "<div>\n",
       "<table border=\"1\" class=\"dataframe\">\n",
       "  <thead>\n",
       "    <tr style=\"text-align: right;\">\n",
       "      <th></th>\n",
       "      <th>ts</th>\n",
       "      <th>company</th>\n",
       "      <th>city_x</th>\n",
       "      <th>position</th>\n",
       "      <th>job</th>\n",
       "      <th>Yexp</th>\n",
       "      <th>Pexp</th>\n",
       "      <th>salary</th>\n",
       "      <th>mBonus</th>\n",
       "      <th>yBonus</th>\n",
       "      <th>gender</th>\n",
       "      <th>coment</th>\n",
       "      <th>currency</th>\n",
       "      <th>income</th>\n",
       "      <th>city_y</th>\n",
       "      <th>reg</th>\n",
       "      <th>ind</th>\n",
       "    </tr>\n",
       "  </thead>\n",
       "  <tbody>\n",
       "    <tr>\n",
       "      <th>0</th>\n",
       "      <td>22/03/2016 19:06:07</td>\n",
       "      <td>NaN</td>\n",
       "      <td>NaN</td>\n",
       "      <td>Дизайнер мобильных приложений</td>\n",
       "      <td>iOS &amp; Android</td>\n",
       "      <td>1.55</td>\n",
       "      <td>5</td>\n",
       "      <td>130000</td>\n",
       "      <td>0</td>\n",
       "      <td>0</td>\n",
       "      <td>male</td>\n",
       "      <td>NaN</td>\n",
       "      <td>Рубли</td>\n",
       "      <td>1560000</td>\n",
       "      <td>NaN</td>\n",
       "      <td>NaN</td>\n",
       "      <td>design</td>\n",
       "    </tr>\n",
       "    <tr>\n",
       "      <th>1</th>\n",
       "      <td>22/03/2016 19:06:46</td>\n",
       "      <td>NaN</td>\n",
       "      <td>санкт-петербург</td>\n",
       "      <td>Дизайнер интерфейсов</td>\n",
       "      <td>Интерфейсы для веба, визуализация данных</td>\n",
       "      <td>0.25</td>\n",
       "      <td>4</td>\n",
       "      <td>80000</td>\n",
       "      <td>0</td>\n",
       "      <td>0</td>\n",
       "      <td>male</td>\n",
       "      <td>NaN</td>\n",
       "      <td>Рубли</td>\n",
       "      <td>960000</td>\n",
       "      <td>StPetersburg</td>\n",
       "      <td>StPetersburg</td>\n",
       "      <td>design</td>\n",
       "    </tr>\n",
       "  </tbody>\n",
       "</table>\n",
       "</div>"
      ],
      "text/plain": [
       "                    ts company           city_x  \\\n",
       "0  22/03/2016 19:06:07     NaN              NaN   \n",
       "1  22/03/2016 19:06:46     NaN  санкт-петербург   \n",
       "\n",
       "                        position                                       job  \\\n",
       "0  Дизайнер мобильных приложений                             iOS & Android   \n",
       "1           Дизайнер интерфейсов  Интерфейсы для веба, визуализация данных   \n",
       "\n",
       "   Yexp  Pexp  salary  mBonus  yBonus gender coment currency   income  \\\n",
       "0  1.55     5  130000       0       0   male    NaN    Рубли  1560000   \n",
       "1  0.25     4   80000       0       0   male    NaN    Рубли   960000   \n",
       "\n",
       "         city_y           reg     ind  \n",
       "0           NaN           NaN  design  \n",
       "1  StPetersburg  StPetersburg  design  "
      ]
     },
     "execution_count": 28,
     "metadata": {},
     "output_type": "execute_result"
    }
   ],
   "source": [
    "df.head(2)"
   ]
  },
  {
   "cell_type": "markdown",
   "metadata": {},
   "source": [
    "## Final tune"
   ]
  },
  {
   "cell_type": "code",
   "execution_count": 29,
   "metadata": {
    "collapsed": false
   },
   "outputs": [],
   "source": [
    "df.city_y.replace('Kyiv','Kiev', inplace=1)\n",
    "df.gender.replace('unknown', np.nan, inplace=1)"
   ]
  },
  {
   "cell_type": "code",
   "execution_count": 33,
   "metadata": {
    "collapsed": false
   },
   "outputs": [],
   "source": [
    "df.to_csv('data/processed.csv', encoding='utf8')"
   ]
  },
  {
   "cell_type": "markdown",
   "metadata": {},
   "source": [
    "## Draft  Analysis"
   ]
  },
  {
   "cell_type": "code",
   "execution_count": 31,
   "metadata": {
    "collapsed": false
   },
   "outputs": [
    {
     "data": {
      "image/png": "[encoded data removed]",
      "text/plain": [
       "<matplotlib.figure.Figure at 0x10b2bf6d0>"
      ]
     },
     "metadata": {},
     "output_type": "display_data"
    }
   ],
   "source": [
    "fig, ax = plt.subplots(figsize=(6,6))\n",
    "\n",
    "for i, (name, g) in enumerate(df.groupby('gender')):\n",
    "    col = ('teal','black','red')[i]\n",
    "    g.plot(kind='scatter', x='Yexp', y='income', ax=ax, c=col, label=name, s=80);\n",
    "\n",
    "plt.legend()\n",
    "plt.title('Yearly Income vs years in company', fontsize = 14);"
   ]
  },
  {
   "cell_type": "markdown",
   "metadata": {},
   "source": [
    "### 120 years of experience? 30'000'000 roubles a year?\n",
    "### we need to get rid of those outliers"
   ]
  },
  {
   "cell_type": "markdown",
   "metadata": {},
   "source": [
    "hardcoding for now"
   ]
  },
  {
   "cell_type": "code",
   "execution_count": null,
   "metadata": {
    "collapsed": true
   },
   "outputs": [],
   "source": [
    "# income less than ten millions, experience less than a year\n",
    "df1 = df[(df.income < 10000000)&(df.Yexp < 50)&(df.Pexp < 50)]"
   ]
  },
  {
   "cell_type": "code",
   "execution_count": null,
   "metadata": {
    "collapsed": false
   },
   "outputs": [],
   "source": [
    "fig, ax = plt.subplots(figsize=(6,6))\n",
    "\n",
    "for i, (name, g) in enumerate(df1.groupby('gender')):\n",
    "    col = ('teal','black','red')[i]\n",
    "    g.plot(kind='scatter', x='Yexp', y='income', ax=ax, c=col, label=name, alpha=.5, s=80);\n",
    "\n",
    "plt.legend()\n",
    "plt.title('Yearly Income vs years in company', fontsize = 14);"
   ]
  },
  {
   "cell_type": "code",
   "execution_count": null,
   "metadata": {
    "collapsed": false
   },
   "outputs": [],
   "source": [
    "fig, ax = plt.subplots(figsize=(6,6))\n",
    "\n",
    "for i, (name, g) in enumerate(df1.groupby('gender')):\n",
    "    col = ('teal','black','red')[i]\n",
    "    g.plot(kind='scatter', x='Pexp', y='income', ax=ax, c=col, label=name, alpha=.5, s=80);\n",
    "\n",
    "plt.legend()\n",
    "plt.title('Yearly Income vs years of experience', fontsize = 14);"
   ]
  },
  {
   "cell_type": "code",
   "execution_count": null,
   "metadata": {
    "collapsed": false
   },
   "outputs": [],
   "source": [
    "fig, ax = plt.subplots(figsize=(6,6))\n",
    "\n",
    "for i, (name, g) in enumerate(df1.groupby('gender')):\n",
    "    col = ('teal','black','red')[i]\n",
    "    g.plot(kind='scatter', x='Pexp', y='Yexp', ax=ax, c=col, label=name, alpha=.5, s=80);\n",
    "\n",
    "plt.legend()\n",
    "plt.title('years in company vs years of experience', fontsize = 14);"
   ]
  },
  {
   "cell_type": "code",
   "execution_count": null,
   "metadata": {
    "collapsed": true
   },
   "outputs": [],
   "source": []
  }
 ],
 "metadata": {
  "kernelspec": {
   "display_name": "Python 2",
   "language": "python",
   "name": "python2"
  },
  "language_info": {
   "codemirror_mode": {
    "name": "ipython",
    "version": 2
   },
   "file_extension": ".py",
   "mimetype": "text/x-python",
   "name": "python",
   "nbconvert_exporter": "python",
   "pygments_lexer": "ipython2",
   "version": "2.7.11"
  }
 },
 "nbformat": 4,
 "nbformat_minor": 0
}
