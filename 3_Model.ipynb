{
 "cells": [
  {
   "cell_type": "code",
   "execution_count": 1,
   "metadata": {
    "collapsed": false
   },
   "outputs": [
    {
     "name": "stdout",
     "output_type": "stream",
     "text": [
      "Populating the interactive namespace from numpy and matplotlib\n"
     ]
    }
   ],
   "source": [
    "import pandas as pd\n",
    "import numpy as np\n",
    "\n",
    "%pylab inline\n",
    "import matplotlib.pyplot as plt\n",
    "from ipynotifyer import notifyOnComplete as nf"
   ]
  },
  {
   "cell_type": "code",
   "execution_count": 2,
   "metadata": {
    "collapsed": true
   },
   "outputs": [],
   "source": [
    "import statsmodels.api as sm\n",
    "from statsmodels.sandbox.regression.predstd import wls_prediction_std"
   ]
  },
  {
   "cell_type": "code",
   "execution_count": 5,
   "metadata": {
    "collapsed": false
   },
   "outputs": [
    {
     "data": {
      "text/plain": [
       "(532, 7)"
      ]
     },
     "execution_count": 5,
     "metadata": {},
     "output_type": "execute_result"
    }
   ],
   "source": [
    "cr = pd.read_csv('data/processed.csv',index_col=0)[['Yexp','Pexp',\n",
    "                                                    'gender','income',\n",
    "                                                    'city_y', 'ind', 'reg']]\n",
    "\n",
    "cr.city_y.replace('Kyiv','Kiev', inplace=1)\n",
    "cr.gender.replace('unknown', np.nan, inplace=1)\n",
    "\n",
    "cr.dropna(how='any', inplace=1)\n",
    "cr.shape"
   ]
  },
  {
   "cell_type": "code",
   "execution_count": 6,
   "metadata": {
    "collapsed": false
   },
   "outputs": [
    {
     "data": {
      "text/html": [
       "<div>\n",
       "<table border=\"1\" class=\"dataframe\">\n",
       "  <thead>\n",
       "    <tr style=\"text-align: right;\">\n",
       "      <th></th>\n",
       "      <th>Yexp</th>\n",
       "      <th>Pexp</th>\n",
       "      <th>gender</th>\n",
       "      <th>income</th>\n",
       "      <th>city_y</th>\n",
       "      <th>ind</th>\n",
       "      <th>reg</th>\n",
       "    </tr>\n",
       "  </thead>\n",
       "  <tbody>\n",
       "    <tr>\n",
       "      <th>1</th>\n",
       "      <td>0.25</td>\n",
       "      <td>4</td>\n",
       "      <td>male</td>\n",
       "      <td>960000</td>\n",
       "      <td>StPetersburg</td>\n",
       "      <td>design</td>\n",
       "      <td>StPetersburg</td>\n",
       "    </tr>\n",
       "    <tr>\n",
       "      <th>4</th>\n",
       "      <td>1.00</td>\n",
       "      <td>10</td>\n",
       "      <td>male</td>\n",
       "      <td>4800000</td>\n",
       "      <td>Moscow</td>\n",
       "      <td>management</td>\n",
       "      <td>Moscow</td>\n",
       "    </tr>\n",
       "    <tr>\n",
       "      <th>5</th>\n",
       "      <td>1.00</td>\n",
       "      <td>5</td>\n",
       "      <td>male</td>\n",
       "      <td>1440000</td>\n",
       "      <td>Moscow</td>\n",
       "      <td>design</td>\n",
       "      <td>Moscow</td>\n",
       "    </tr>\n",
       "    <tr>\n",
       "      <th>6</th>\n",
       "      <td>0.00</td>\n",
       "      <td>4</td>\n",
       "      <td>male</td>\n",
       "      <td>840000</td>\n",
       "      <td>Moscow</td>\n",
       "      <td>design</td>\n",
       "      <td>Moscow</td>\n",
       "    </tr>\n",
       "    <tr>\n",
       "      <th>7</th>\n",
       "      <td>0.00</td>\n",
       "      <td>0</td>\n",
       "      <td>male</td>\n",
       "      <td>1200000</td>\n",
       "      <td>Moscow</td>\n",
       "      <td>management</td>\n",
       "      <td>Moscow</td>\n",
       "    </tr>\n",
       "  </tbody>\n",
       "</table>\n",
       "</div>"
      ],
      "text/plain": [
       "   Yexp  Pexp gender   income        city_y         ind           reg\n",
       "1  0.25     4   male   960000  StPetersburg      design  StPetersburg\n",
       "4  1.00    10   male  4800000        Moscow  management        Moscow\n",
       "5  1.00     5   male  1440000        Moscow      design        Moscow\n",
       "6  0.00     4   male   840000        Moscow      design        Moscow\n",
       "7  0.00     0   male  1200000        Moscow  management        Moscow"
      ]
     },
     "execution_count": 6,
     "metadata": {},
     "output_type": "execute_result"
    }
   ],
   "source": [
    "cr.head()"
   ]
  },
  {
   "cell_type": "code",
   "execution_count": 7,
   "metadata": {
    "collapsed": false
   },
   "outputs": [],
   "source": [
    "\n",
    "# .LinearRegression"
   ]
  },
  {
   "cell_type": "code",
   "execution_count": 8,
   "metadata": {
    "collapsed": false
   },
   "outputs": [],
   "source": [
    "# create dummy (binary) variables from categorical ones\n",
    "cr_d = pd.get_dummies(cr[['Yexp','Pexp','gender','ind','reg']])\n",
    "y = cr['income']"
   ]
  },
  {
   "cell_type": "code",
   "execution_count": 9,
   "metadata": {
    "collapsed": false
   },
   "outputs": [
    {
     "data": {
      "text/html": [
       "<div>\n",
       "<table border=\"1\" class=\"dataframe\">\n",
       "  <thead>\n",
       "    <tr style=\"text-align: right;\">\n",
       "      <th></th>\n",
       "      <th>Yexp</th>\n",
       "      <th>Pexp</th>\n",
       "      <th>gender_female</th>\n",
       "      <th>gender_male</th>\n",
       "      <th>ind_design</th>\n",
       "      <th>ind_dev</th>\n",
       "      <th>ind_management</th>\n",
       "      <th>ind_other</th>\n",
       "      <th>reg_?</th>\n",
       "      <th>reg_Asia</th>\n",
       "      <th>reg_Belorus</th>\n",
       "      <th>reg_Europe</th>\n",
       "      <th>reg_ME</th>\n",
       "      <th>reg_Moscow</th>\n",
       "      <th>reg_Russia</th>\n",
       "      <th>reg_StPetersburg</th>\n",
       "      <th>reg_US</th>\n",
       "      <th>reg_Ukraine</th>\n",
       "      <th>reg_Uzbekistan</th>\n",
       "    </tr>\n",
       "  </thead>\n",
       "  <tbody>\n",
       "    <tr>\n",
       "      <th>1</th>\n",
       "      <td>0.25</td>\n",
       "      <td>4</td>\n",
       "      <td>0</td>\n",
       "      <td>1</td>\n",
       "      <td>1</td>\n",
       "      <td>0</td>\n",
       "      <td>0</td>\n",
       "      <td>0</td>\n",
       "      <td>0</td>\n",
       "      <td>0</td>\n",
       "      <td>0</td>\n",
       "      <td>0</td>\n",
       "      <td>0</td>\n",
       "      <td>0</td>\n",
       "      <td>0</td>\n",
       "      <td>1</td>\n",
       "      <td>0</td>\n",
       "      <td>0</td>\n",
       "      <td>0</td>\n",
       "    </tr>\n",
       "    <tr>\n",
       "      <th>4</th>\n",
       "      <td>1.00</td>\n",
       "      <td>10</td>\n",
       "      <td>0</td>\n",
       "      <td>1</td>\n",
       "      <td>0</td>\n",
       "      <td>0</td>\n",
       "      <td>1</td>\n",
       "      <td>0</td>\n",
       "      <td>0</td>\n",
       "      <td>0</td>\n",
       "      <td>0</td>\n",
       "      <td>0</td>\n",
       "      <td>0</td>\n",
       "      <td>1</td>\n",
       "      <td>0</td>\n",
       "      <td>0</td>\n",
       "      <td>0</td>\n",
       "      <td>0</td>\n",
       "      <td>0</td>\n",
       "    </tr>\n",
       "  </tbody>\n",
       "</table>\n",
       "</div>"
      ],
      "text/plain": [
       "   Yexp  Pexp  gender_female  gender_male  ind_design  ind_dev  \\\n",
       "1  0.25     4              0            1           1        0   \n",
       "4  1.00    10              0            1           0        0   \n",
       "\n",
       "   ind_management  ind_other  reg_?  reg_Asia  reg_Belorus  reg_Europe  \\\n",
       "1               0          0      0         0            0           0   \n",
       "4               1          0      0         0            0           0   \n",
       "\n",
       "   reg_ME  reg_Moscow  reg_Russia  reg_StPetersburg  reg_US  reg_Ukraine  \\\n",
       "1       0           0           0                 1       0            0   \n",
       "4       0           1           0                 0       0            0   \n",
       "\n",
       "   reg_Uzbekistan  \n",
       "1               0  \n",
       "4               0  "
      ]
     },
     "execution_count": 9,
     "metadata": {},
     "output_type": "execute_result"
    }
   ],
   "source": [
    "cr_d.head(2)"
   ]
  },
  {
   "cell_type": "code",
   "execution_count": 10,
   "metadata": {
    "collapsed": false
   },
   "outputs": [
    {
     "name": "stderr",
     "output_type": "stream",
     "text": [
      "/Users/casy/anaconda/lib/python2.7/site-packages/pandas/computation/expressions.py:190: UserWarning: evaluating in Python space because the '*' operator is not supported by numexpr for the bool dtype, use '&' instead\n",
      "  unsupported[op_str]))\n"
     ]
    }
   ],
   "source": [
    "mask = (y < 6000000 )* (y>1000)"
   ]
  },
  {
   "cell_type": "code",
   "execution_count": 11,
   "metadata": {
    "collapsed": true
   },
   "outputs": [],
   "source": [
    "X = cr_d[mask]\n",
    "y = y[mask]"
   ]
  },
  {
   "cell_type": "code",
   "execution_count": 12,
   "metadata": {
    "collapsed": true
   },
   "outputs": [],
   "source": [
    "def NormDF(df, axis=0):\n",
    "    return (df - df.mean(axis))/df.std(axis)"
   ]
  },
  {
   "cell_type": "code",
   "execution_count": 13,
   "metadata": {
    "collapsed": true
   },
   "outputs": [],
   "source": [
    "# X = NormDF(X)"
   ]
  },
  {
   "cell_type": "code",
   "execution_count": 14,
   "metadata": {
    "collapsed": false
   },
   "outputs": [
    {
     "name": "stdout",
     "output_type": "stream",
     "text": [
      "                            OLS Regression Results                            \n",
      "==============================================================================\n",
      "Dep. Variable:                 income   R-squared:                       0.265\n",
      "Model:                            OLS   Adj. R-squared:                  0.242\n",
      "Method:                 Least Squares   F-statistic:                     11.24\n",
      "Date:                Mon, 06 Jun 2016   Prob (F-statistic):           5.91e-25\n",
      "Time:                        13:52:28   Log-Likelihood:                -7737.7\n",
      "No. Observations:                 515   AIC:                         1.551e+04\n",
      "Df Residuals:                     498   BIC:                         1.558e+04\n",
      "Df Model:                          16                                         \n",
      "Covariance Type:            nonrobust                                         \n",
      "====================================================================================\n",
      "                       coef    std err          t      P>|t|      [95.0% Conf. Int.]\n",
      "------------------------------------------------------------------------------------\n",
      "Yexp             -1.871e+04   1.47e+04     -1.269      0.205     -4.77e+04  1.03e+04\n",
      "Pexp               4.03e+04   8622.543      4.673      0.000      2.34e+04  5.72e+04\n",
      "gender_female     6.932e+05   1.21e+05      5.733      0.000      4.56e+05  9.31e+05\n",
      "gender_male       1.288e+06    1.1e+05     11.748      0.000      1.07e+06   1.5e+06\n",
      "ind_design        3.972e+05   7.52e+04      5.278      0.000      2.49e+05  5.45e+05\n",
      "ind_dev           6.615e+05   9.09e+04      7.273      0.000      4.83e+05   8.4e+05\n",
      "ind_management    7.203e+05   9.36e+04      7.692      0.000      5.36e+05  9.04e+05\n",
      "ind_other         2.024e+05   1.55e+05      1.306      0.192     -1.02e+05  5.07e+05\n",
      "reg_?            -2.452e+05   5.54e+05     -0.443      0.658     -1.33e+06  8.43e+05\n",
      "reg_Asia          6.963e+05    7.7e+05      0.904      0.366     -8.17e+05  2.21e+06\n",
      "reg_Belorus       7.118e+04   2.45e+05      0.290      0.772     -4.11e+05  5.53e+05\n",
      "reg_Europe       -3.669e+05   3.22e+05     -1.139      0.255        -1e+06  2.66e+05\n",
      "reg_ME            1.089e+06   7.74e+05      1.407      0.160     -4.32e+05  2.61e+06\n",
      "reg_Moscow        -4.42e+05   1.56e+05     -2.842      0.005     -7.48e+05 -1.36e+05\n",
      "reg_Russia        -1.08e+06   1.62e+05     -6.678      0.000      -1.4e+06 -7.62e+05\n",
      "reg_StPetersburg -6.057e+05   1.73e+05     -3.493      0.001     -9.46e+05 -2.65e+05\n",
      "reg_US            2.584e+06   7.72e+05      3.345      0.001      1.07e+06   4.1e+06\n",
      "reg_Ukraine       1.998e+04   2.05e+05      0.097      0.922     -3.83e+05  4.23e+05\n",
      "reg_Uzbekistan    2.608e+05   7.73e+05      0.338      0.736     -1.26e+06  1.78e+06\n",
      "==============================================================================\n",
      "Omnibus:                      214.175   Durbin-Watson:                   1.909\n",
      "Prob(Omnibus):                  0.000   Jarque-Bera (JB):              962.441\n",
      "Skew:                           1.839   Prob(JB):                    1.02e-209\n",
      "Kurtosis:                       8.596   Cond. No.                     6.29e+16\n",
      "==============================================================================\n",
      "\n",
      "Warnings:\n",
      "[1] Standard Errors assume that the covariance matrix of the errors is correctly specified.\n",
      "[2] The smallest eigenvalue is 1.03e-29. This might indicate that there are\n",
      "strong multicollinearity problems or that the design matrix is singular.\n"
     ]
    }
   ],
   "source": [
    "model = sm.OLS(y, X)\n",
    "results = model.fit()\n",
    "print(results.summary())"
   ]
  },
  {
   "cell_type": "code",
   "execution_count": 18,
   "metadata": {
    "collapsed": false
   },
   "outputs": [
    {
     "data": {
      "text/html": [
       "<div>\n",
       "<table border=\"1\" class=\"dataframe\">\n",
       "  <thead>\n",
       "    <tr style=\"text-align: right;\">\n",
       "      <th></th>\n",
       "      <th>label</th>\n",
       "      <th>predicted</th>\n",
       "      <th>real</th>\n",
       "    </tr>\n",
       "  </thead>\n",
       "  <tbody>\n",
       "    <tr>\n",
       "      <th>1</th>\n",
       "      <td>design</td>\n",
       "      <td>1236216.383733</td>\n",
       "      <td>960000</td>\n",
       "    </tr>\n",
       "    <tr>\n",
       "      <th>4</th>\n",
       "      <td>management</td>\n",
       "      <td>1950773.447849</td>\n",
       "      <td>4800000</td>\n",
       "    </tr>\n",
       "  </tbody>\n",
       "</table>\n",
       "</div>"
      ],
      "text/plain": [
       "        label       predicted     real\n",
       "1      design  1236216.383733   960000\n",
       "4  management  1950773.447849  4800000"
      ]
     },
     "execution_count": 18,
     "metadata": {},
     "output_type": "execute_result"
    }
   ],
   "source": [
    "pp = pd.DataFrame({'real': y, 'predicted':results.predict(),'label': cr.ind[mask]})\n",
    "pp.head(2)"
   ]
  },
  {
   "cell_type": "code",
   "execution_count": 26,
   "metadata": {
    "collapsed": false
   },
   "outputs": [
    {
     "data": {
      "image/png": "[encoded data removed]",
      "text/plain": [
       "<matplotlib.figure.Figure at 0x10be87ad0>"
      ]
     },
     "metadata": {},
     "output_type": "display_data"
    }
   ],
   "source": [
    "# pp[(pp.predicted>0)&(pp.real>0)].plot.scatter(x='predicted',y='real', loglog=1)\n",
    "fig, ax = plt.subplots(figsize=(10,10))\n",
    "\n",
    "colors = 'rgkyw'\n",
    "for i, (name, g) in enumerate(pp.groupby('label')):\n",
    "    g.plot.scatter(x='predicted',y='real', ax=ax, color=colors[i],label=name, alpha=.6)"
   ]
  },
  {
   "cell_type": "code",
   "execution_count": 27,
   "metadata": {
    "collapsed": false
   },
   "outputs": [
    {
     "ename": "AttributeError",
     "evalue": "'DataFrame' object has no attribute 'income'",
     "output_type": "error",
     "traceback": [
      "\u001b[0;31m---------------------------------------------------------------------------\u001b[0m",
      "\u001b[0;31mAttributeError\u001b[0m                            Traceback (most recent call last)",
      "\u001b[0;32m<ipython-input-27-097b711e0a7b>\u001b[0m in \u001b[0;36m<module>\u001b[0;34m()\u001b[0m\n\u001b[0;32m----> 1\u001b[0;31m \u001b[0mX\u001b[0m \u001b[0;34m=\u001b[0m \u001b[0mcr_d\u001b[0m\u001b[0;34m[\u001b[0m\u001b[0mcr_d\u001b[0m\u001b[0;34m.\u001b[0m\u001b[0mincome\u001b[0m\u001b[0;34m<\u001b[0m\u001b[0;36m10000000\u001b[0m\u001b[0;34m]\u001b[0m\u001b[0;34m[\u001b[0m\u001b[0;34m[\u001b[0m\u001b[0;34m'Yexp'\u001b[0m\u001b[0;34m,\u001b[0m \u001b[0;34m'Pexp'\u001b[0m\u001b[0;34m,\u001b[0m \u001b[0;34m'gender_female'\u001b[0m\u001b[0;34m,\u001b[0m \u001b[0;34m'gender_male'\u001b[0m\u001b[0;34m]\u001b[0m\u001b[0;34m]\u001b[0m\u001b[0;34m\u001b[0m\u001b[0m\n\u001b[0m\u001b[1;32m      2\u001b[0m \u001b[0my\u001b[0m \u001b[0;34m=\u001b[0m \u001b[0mcr_d\u001b[0m\u001b[0;34m[\u001b[0m\u001b[0mcr_d\u001b[0m\u001b[0;34m.\u001b[0m\u001b[0mincome\u001b[0m\u001b[0;34m<\u001b[0m\u001b[0;36m10000000\u001b[0m\u001b[0;34m]\u001b[0m\u001b[0;34m[\u001b[0m\u001b[0;34m'income'\u001b[0m\u001b[0;34m]\u001b[0m\u001b[0;34m\u001b[0m\u001b[0m\n",
      "\u001b[0;32m/Users/casy/anaconda/lib/python2.7/site-packages/pandas/core/generic.pyc\u001b[0m in \u001b[0;36m__getattr__\u001b[0;34m(self, name)\u001b[0m\n\u001b[1;32m   2358\u001b[0m                 \u001b[0;32mreturn\u001b[0m \u001b[0mself\u001b[0m\u001b[0;34m[\u001b[0m\u001b[0mname\u001b[0m\u001b[0;34m]\u001b[0m\u001b[0;34m\u001b[0m\u001b[0m\n\u001b[1;32m   2359\u001b[0m             raise AttributeError(\"'%s' object has no attribute '%s'\" %\n\u001b[0;32m-> 2360\u001b[0;31m                                  (type(self).__name__, name))\n\u001b[0m\u001b[1;32m   2361\u001b[0m \u001b[0;34m\u001b[0m\u001b[0m\n\u001b[1;32m   2362\u001b[0m     \u001b[0;32mdef\u001b[0m \u001b[0m__setattr__\u001b[0m\u001b[0;34m(\u001b[0m\u001b[0mself\u001b[0m\u001b[0;34m,\u001b[0m \u001b[0mname\u001b[0m\u001b[0;34m,\u001b[0m \u001b[0mvalue\u001b[0m\u001b[0;34m)\u001b[0m\u001b[0;34m:\u001b[0m\u001b[0;34m\u001b[0m\u001b[0m\n",
      "\u001b[0;31mAttributeError\u001b[0m: 'DataFrame' object has no attribute 'income'"
     ]
    }
   ],
   "source": [
    "X = cr_d[cr_d.income<10000000][['Yexp', 'Pexp', 'gender_female', 'gender_male']]\n",
    "y = cr_d[cr_d.income<10000000]['income']"
   ]
  },
  {
   "cell_type": "code",
   "execution_count": 28,
   "metadata": {
    "collapsed": false
   },
   "outputs": [
    {
     "name": "stdout",
     "output_type": "stream",
     "text": [
      "                            OLS Regression Results                            \n",
      "==============================================================================\n",
      "Dep. Variable:                 income   R-squared:                       0.265\n",
      "Model:                            OLS   Adj. R-squared:                  0.242\n",
      "Method:                 Least Squares   F-statistic:                     11.24\n",
      "Date:                Mon, 06 Jun 2016   Prob (F-statistic):           5.91e-25\n",
      "Time:                        13:57:37   Log-Likelihood:                -7737.7\n",
      "No. Observations:                 515   AIC:                         1.551e+04\n",
      "Df Residuals:                     498   BIC:                         1.558e+04\n",
      "Df Model:                          16                                         \n",
      "Covariance Type:            nonrobust                                         \n",
      "====================================================================================\n",
      "                       coef    std err          t      P>|t|      [95.0% Conf. Int.]\n",
      "------------------------------------------------------------------------------------\n",
      "Yexp             -1.871e+04   1.47e+04     -1.269      0.205     -4.77e+04  1.03e+04\n",
      "Pexp               4.03e+04   8622.543      4.673      0.000      2.34e+04  5.72e+04\n",
      "gender_female     6.932e+05   1.21e+05      5.733      0.000      4.56e+05  9.31e+05\n",
      "gender_male       1.288e+06    1.1e+05     11.748      0.000      1.07e+06   1.5e+06\n",
      "ind_design        3.972e+05   7.52e+04      5.278      0.000      2.49e+05  5.45e+05\n",
      "ind_dev           6.615e+05   9.09e+04      7.273      0.000      4.83e+05   8.4e+05\n",
      "ind_management    7.203e+05   9.36e+04      7.692      0.000      5.36e+05  9.04e+05\n",
      "ind_other         2.024e+05   1.55e+05      1.306      0.192     -1.02e+05  5.07e+05\n",
      "reg_?            -2.452e+05   5.54e+05     -0.443      0.658     -1.33e+06  8.43e+05\n",
      "reg_Asia          6.963e+05    7.7e+05      0.904      0.366     -8.17e+05  2.21e+06\n",
      "reg_Belorus       7.118e+04   2.45e+05      0.290      0.772     -4.11e+05  5.53e+05\n",
      "reg_Europe       -3.669e+05   3.22e+05     -1.139      0.255        -1e+06  2.66e+05\n",
      "reg_ME            1.089e+06   7.74e+05      1.407      0.160     -4.32e+05  2.61e+06\n",
      "reg_Moscow        -4.42e+05   1.56e+05     -2.842      0.005     -7.48e+05 -1.36e+05\n",
      "reg_Russia        -1.08e+06   1.62e+05     -6.678      0.000      -1.4e+06 -7.62e+05\n",
      "reg_StPetersburg -6.057e+05   1.73e+05     -3.493      0.001     -9.46e+05 -2.65e+05\n",
      "reg_US            2.584e+06   7.72e+05      3.345      0.001      1.07e+06   4.1e+06\n",
      "reg_Ukraine       1.998e+04   2.05e+05      0.097      0.922     -3.83e+05  4.23e+05\n",
      "reg_Uzbekistan    2.608e+05   7.73e+05      0.338      0.736     -1.26e+06  1.78e+06\n",
      "==============================================================================\n",
      "Omnibus:                      214.175   Durbin-Watson:                   1.909\n",
      "Prob(Omnibus):                  0.000   Jarque-Bera (JB):              962.441\n",
      "Skew:                           1.839   Prob(JB):                    1.02e-209\n",
      "Kurtosis:                       8.596   Cond. No.                     6.29e+16\n",
      "==============================================================================\n",
      "\n",
      "Warnings:\n",
      "[1] Standard Errors assume that the covariance matrix of the errors is correctly specified.\n",
      "[2] The smallest eigenvalue is 1.03e-29. This might indicate that there are\n",
      "strong multicollinearity problems or that the design matrix is singular.\n"
     ]
    }
   ],
   "source": [
    "model = sm.OLS(y, X)\n",
    "results = model.fit()\n",
    "print(results.summary())"
   ]
  },
  {
   "cell_type": "code",
   "execution_count": 62,
   "metadata": {
    "collapsed": true
   },
   "outputs": [],
   "source": [
    "from sklearn.linear_model import LogisticRegression"
   ]
  },
  {
   "cell_type": "code",
   "execution_count": 63,
   "metadata": {
    "collapsed": false
   },
   "outputs": [
    {
     "ename": "ValueError",
     "evalue": "Unknown label type: array([ 1560000.,   960000.,   960000., ...,  1690000.,   660000.,\n         996012.])",
     "output_type": "error",
     "traceback": [
      "\u001b[0;31m---------------------------------------------------------------------------\u001b[0m",
      "\u001b[0;31mValueError\u001b[0m                                Traceback (most recent call last)",
      "\u001b[0;32m<ipython-input-63-48fe0abe717a>\u001b[0m in \u001b[0;36m<module>\u001b[0;34m()\u001b[0m\n\u001b[1;32m      1\u001b[0m \u001b[0mlogit_classifier\u001b[0m \u001b[0;34m=\u001b[0m \u001b[0mLogisticRegression\u001b[0m\u001b[0;34m(\u001b[0m\u001b[0mpenalty\u001b[0m\u001b[0;34m=\u001b[0m\u001b[0;34m\"l1\"\u001b[0m\u001b[0;34m,\u001b[0m \u001b[0msolver\u001b[0m\u001b[0;34m=\u001b[0m\u001b[0;34m'liblinear'\u001b[0m\u001b[0;34m,\u001b[0m \u001b[0mverbose\u001b[0m\u001b[0;34m=\u001b[0m\u001b[0;36m2\u001b[0m\u001b[0;34m)\u001b[0m\u001b[0;34m\u001b[0m\u001b[0m\n\u001b[0;32m----> 2\u001b[0;31m \u001b[0mlogit_classifier\u001b[0m\u001b[0;34m.\u001b[0m\u001b[0mfit\u001b[0m\u001b[0;34m(\u001b[0m\u001b[0mX\u001b[0m\u001b[0;34m=\u001b[0m\u001b[0mX\u001b[0m\u001b[0;34m,\u001b[0m \u001b[0my\u001b[0m\u001b[0;34m=\u001b[0m\u001b[0my\u001b[0m\u001b[0;34m)\u001b[0m\u001b[0;34m\u001b[0m\u001b[0m\n\u001b[0m\u001b[1;32m      3\u001b[0m \u001b[0;34m\u001b[0m\u001b[0m\n\u001b[1;32m      4\u001b[0m \u001b[0mlogit_predictions\u001b[0m \u001b[0;34m=\u001b[0m \u001b[0mlogit_classifier\u001b[0m\u001b[0;34m.\u001b[0m\u001b[0mpredict_proba\u001b[0m\u001b[0;34m(\u001b[0m\u001b[0mpred_test\u001b[0m\u001b[0;34m)\u001b[0m\u001b[0;34m[\u001b[0m\u001b[0;34m:\u001b[0m\u001b[0;34m,\u001b[0m \u001b[0;36m1\u001b[0m\u001b[0;34m]\u001b[0m\u001b[0;34m\u001b[0m\u001b[0m\n",
      "\u001b[0;32m/Users/casy/anaconda/lib/python2.7/site-packages/sklearn/linear_model/logistic.pyc\u001b[0m in \u001b[0;36mfit\u001b[0;34m(self, X, y, sample_weight)\u001b[0m\n\u001b[1;32m   1141\u001b[0m         X, y = check_X_y(X, y, accept_sparse='csr', dtype=np.float64, \n\u001b[1;32m   1142\u001b[0m                          order=\"C\")\n\u001b[0;32m-> 1143\u001b[0;31m         \u001b[0mcheck_classification_targets\u001b[0m\u001b[0;34m(\u001b[0m\u001b[0my\u001b[0m\u001b[0;34m)\u001b[0m\u001b[0;34m\u001b[0m\u001b[0m\n\u001b[0m\u001b[1;32m   1144\u001b[0m         \u001b[0mself\u001b[0m\u001b[0;34m.\u001b[0m\u001b[0mclasses_\u001b[0m \u001b[0;34m=\u001b[0m \u001b[0mnp\u001b[0m\u001b[0;34m.\u001b[0m\u001b[0munique\u001b[0m\u001b[0;34m(\u001b[0m\u001b[0my\u001b[0m\u001b[0;34m)\u001b[0m\u001b[0;34m\u001b[0m\u001b[0m\n\u001b[1;32m   1145\u001b[0m         \u001b[0mn_samples\u001b[0m\u001b[0;34m,\u001b[0m \u001b[0mn_features\u001b[0m \u001b[0;34m=\u001b[0m \u001b[0mX\u001b[0m\u001b[0;34m.\u001b[0m\u001b[0mshape\u001b[0m\u001b[0;34m\u001b[0m\u001b[0m\n",
      "\u001b[0;32m/Users/casy/anaconda/lib/python2.7/site-packages/sklearn/utils/multiclass.pyc\u001b[0m in \u001b[0;36mcheck_classification_targets\u001b[0;34m(y)\u001b[0m\n\u001b[1;32m    171\u001b[0m     if y_type not in ['binary', 'multiclass', 'multiclass-multioutput', \n\u001b[1;32m    172\u001b[0m             'multilabel-indicator', 'multilabel-sequences']:\n\u001b[0;32m--> 173\u001b[0;31m         \u001b[0;32mraise\u001b[0m \u001b[0mValueError\u001b[0m\u001b[0;34m(\u001b[0m\u001b[0;34m\"Unknown label type: %r\"\u001b[0m \u001b[0;34m%\u001b[0m \u001b[0my\u001b[0m\u001b[0;34m)\u001b[0m\u001b[0;34m\u001b[0m\u001b[0m\n\u001b[0m\u001b[1;32m    174\u001b[0m \u001b[0;34m\u001b[0m\u001b[0m\n\u001b[1;32m    175\u001b[0m \u001b[0;34m\u001b[0m\u001b[0m\n",
      "\u001b[0;31mValueError\u001b[0m: Unknown label type: array([ 1560000.,   960000.,   960000., ...,  1690000.,   660000.,\n         996012.])"
     ]
    }
   ],
   "source": [
    "logit_classifier = LogisticRegression(penalty=\"l1\", solver='liblinear', verbose=2)\n",
    "logit_classifier.fit(X=X, y=y)\n",
    "\n",
    "logit_predictions = logit_classifier.predict_proba(pred_test)[:, 1]"
   ]
  },
  {
   "cell_type": "code",
   "execution_count": null,
   "metadata": {
    "collapsed": true
   },
   "outputs": [],
   "source": []
  }
 ],
 "metadata": {
  "kernelspec": {
   "display_name": "Python 2",
   "language": "python",
   "name": "python2"
  },
  "language_info": {
   "codemirror_mode": {
    "name": "ipython",
    "version": 2
   },
   "file_extension": ".py",
   "mimetype": "text/x-python",
   "name": "python",
   "nbconvert_exporter": "python",
   "pygments_lexer": "ipython2",
   "version": "2.7.11"
  }
 },
 "nbformat": 4,
 "nbformat_minor": 0
}
