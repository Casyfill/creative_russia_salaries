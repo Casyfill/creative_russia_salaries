{
 "cells": [
  {
   "cell_type": "code",
   "execution_count": 13,
   "metadata": {
    "collapsed": false
   },
   "outputs": [
    {
     "name": "stdout",
     "output_type": "stream",
     "text": [
      "Populating the interactive namespace from numpy and matplotlib\n"
     ]
    }
   ],
   "source": [
    "import pandas as pd\n",
    "import numpy as np\n",
    "\n",
    "%pylab inline\n",
    "import matplotlib.pyplot as plt\n",
    "from ipynotifyer import notifyOnComplete as nf"
   ]
  },
  {
   "cell_type": "code",
   "execution_count": 14,
   "metadata": {
    "collapsed": true
   },
   "outputs": [],
   "source": [
    "import statsmodels.api as sm\n",
    "from statsmodels.sandbox.regression.predstd import wls_prediction_std"
   ]
  },
  {
   "cell_type": "code",
   "execution_count": 15,
   "metadata": {
    "collapsed": false
   },
   "outputs": [
    {
     "data": {
      "text/plain": [
       "(532, 8)"
      ]
     },
     "execution_count": 15,
     "metadata": {},
     "output_type": "execute_result"
    }
   ],
   "source": [
    "cr = pd.read_csv('data/processed.csv',index_col=0)[['Yexp','Pexp',\n",
    "                                                    'gender','income',\n",
    "                                                    'city_y', 'ind', 'reg']]\n",
    "\n",
    "cr.city_y.replace('Kyiv','Kiev', inplace=1)\n",
    "cr.gender.replace('unknown', np.nan, inplace=1)\n",
    "cr['m_income'] = cr.income/12 # average month income\n",
    "\n",
    "cr.dropna(how='any', inplace=1)\n",
    "cr.shape\n"
   ]
  },
  {
   "cell_type": "code",
   "execution_count": 16,
   "metadata": {
    "collapsed": false
   },
   "outputs": [
    {
     "data": {
      "text/html": [
       "<div>\n",
       "<table border=\"1\" class=\"dataframe\">\n",
       "  <thead>\n",
       "    <tr style=\"text-align: right;\">\n",
       "      <th></th>\n",
       "      <th>Yexp</th>\n",
       "      <th>Pexp</th>\n",
       "      <th>gender</th>\n",
       "      <th>income</th>\n",
       "      <th>city_y</th>\n",
       "      <th>ind</th>\n",
       "      <th>reg</th>\n",
       "      <th>m_income</th>\n",
       "    </tr>\n",
       "  </thead>\n",
       "  <tbody>\n",
       "    <tr>\n",
       "      <th>1</th>\n",
       "      <td>0.25</td>\n",
       "      <td>4</td>\n",
       "      <td>male</td>\n",
       "      <td>960000</td>\n",
       "      <td>StPetersburg</td>\n",
       "      <td>design</td>\n",
       "      <td>StPetersburg</td>\n",
       "      <td>80000</td>\n",
       "    </tr>\n",
       "    <tr>\n",
       "      <th>4</th>\n",
       "      <td>1.00</td>\n",
       "      <td>10</td>\n",
       "      <td>male</td>\n",
       "      <td>4800000</td>\n",
       "      <td>Moscow</td>\n",
       "      <td>management</td>\n",
       "      <td>Moscow</td>\n",
       "      <td>400000</td>\n",
       "    </tr>\n",
       "    <tr>\n",
       "      <th>5</th>\n",
       "      <td>1.00</td>\n",
       "      <td>5</td>\n",
       "      <td>male</td>\n",
       "      <td>1440000</td>\n",
       "      <td>Moscow</td>\n",
       "      <td>design</td>\n",
       "      <td>Moscow</td>\n",
       "      <td>120000</td>\n",
       "    </tr>\n",
       "    <tr>\n",
       "      <th>6</th>\n",
       "      <td>0.00</td>\n",
       "      <td>4</td>\n",
       "      <td>male</td>\n",
       "      <td>840000</td>\n",
       "      <td>Moscow</td>\n",
       "      <td>design</td>\n",
       "      <td>Moscow</td>\n",
       "      <td>70000</td>\n",
       "    </tr>\n",
       "    <tr>\n",
       "      <th>7</th>\n",
       "      <td>0.00</td>\n",
       "      <td>0</td>\n",
       "      <td>male</td>\n",
       "      <td>1200000</td>\n",
       "      <td>Moscow</td>\n",
       "      <td>management</td>\n",
       "      <td>Moscow</td>\n",
       "      <td>100000</td>\n",
       "    </tr>\n",
       "  </tbody>\n",
       "</table>\n",
       "</div>"
      ],
      "text/plain": [
       "   Yexp  Pexp gender   income        city_y         ind           reg  \\\n",
       "1  0.25     4   male   960000  StPetersburg      design  StPetersburg   \n",
       "4  1.00    10   male  4800000        Moscow  management        Moscow   \n",
       "5  1.00     5   male  1440000        Moscow      design        Moscow   \n",
       "6  0.00     4   male   840000        Moscow      design        Moscow   \n",
       "7  0.00     0   male  1200000        Moscow  management        Moscow   \n",
       "\n",
       "   m_income  \n",
       "1     80000  \n",
       "4    400000  \n",
       "5    120000  \n",
       "6     70000  \n",
       "7    100000  "
      ]
     },
     "execution_count": 16,
     "metadata": {},
     "output_type": "execute_result"
    }
   ],
   "source": [
    "cr.head()"
   ]
  },
  {
   "cell_type": "code",
   "execution_count": 17,
   "metadata": {
    "collapsed": false
   },
   "outputs": [
    {
     "data": {
      "text/plain": [
       "count        532.000000\n",
       "mean      135611.231610\n",
       "std       199996.273525\n",
       "min           45.000000\n",
       "25%        60000.000000\n",
       "50%        90313.054167\n",
       "75%       146875.000000\n",
       "max      2450000.000000\n",
       "Name: m_income, dtype: float64"
      ]
     },
     "execution_count": 17,
     "metadata": {},
     "output_type": "execute_result"
    }
   ],
   "source": [
    "cr['m_income'].describe()"
   ]
  },
  {
   "cell_type": "code",
   "execution_count": 18,
   "metadata": {
    "collapsed": false
   },
   "outputs": [],
   "source": [
    "# create dummy (binary) variables from categorical ones\n",
    "cr_d = pd.get_dummies(cr[['Yexp','Pexp','gender','ind','reg']])\n",
    "y = cr['m_income']"
   ]
  },
  {
   "cell_type": "code",
   "execution_count": 19,
   "metadata": {
    "collapsed": false
   },
   "outputs": [
    {
     "data": {
      "text/html": [
       "<div>\n",
       "<table border=\"1\" class=\"dataframe\">\n",
       "  <thead>\n",
       "    <tr style=\"text-align: right;\">\n",
       "      <th></th>\n",
       "      <th>Yexp</th>\n",
       "      <th>Pexp</th>\n",
       "      <th>gender_female</th>\n",
       "      <th>gender_male</th>\n",
       "      <th>ind_design</th>\n",
       "      <th>ind_dev</th>\n",
       "      <th>ind_management</th>\n",
       "      <th>ind_other</th>\n",
       "      <th>reg_?</th>\n",
       "      <th>reg_Asia</th>\n",
       "      <th>reg_Belorus</th>\n",
       "      <th>reg_Europe</th>\n",
       "      <th>reg_ME</th>\n",
       "      <th>reg_Moscow</th>\n",
       "      <th>reg_Russia</th>\n",
       "      <th>reg_StPetersburg</th>\n",
       "      <th>reg_US</th>\n",
       "      <th>reg_Ukraine</th>\n",
       "      <th>reg_Uzbekistan</th>\n",
       "    </tr>\n",
       "  </thead>\n",
       "  <tbody>\n",
       "    <tr>\n",
       "      <th>1</th>\n",
       "      <td>0.25</td>\n",
       "      <td>4</td>\n",
       "      <td>0</td>\n",
       "      <td>1</td>\n",
       "      <td>1</td>\n",
       "      <td>0</td>\n",
       "      <td>0</td>\n",
       "      <td>0</td>\n",
       "      <td>0</td>\n",
       "      <td>0</td>\n",
       "      <td>0</td>\n",
       "      <td>0</td>\n",
       "      <td>0</td>\n",
       "      <td>0</td>\n",
       "      <td>0</td>\n",
       "      <td>1</td>\n",
       "      <td>0</td>\n",
       "      <td>0</td>\n",
       "      <td>0</td>\n",
       "    </tr>\n",
       "    <tr>\n",
       "      <th>4</th>\n",
       "      <td>1.00</td>\n",
       "      <td>10</td>\n",
       "      <td>0</td>\n",
       "      <td>1</td>\n",
       "      <td>0</td>\n",
       "      <td>0</td>\n",
       "      <td>1</td>\n",
       "      <td>0</td>\n",
       "      <td>0</td>\n",
       "      <td>0</td>\n",
       "      <td>0</td>\n",
       "      <td>0</td>\n",
       "      <td>0</td>\n",
       "      <td>1</td>\n",
       "      <td>0</td>\n",
       "      <td>0</td>\n",
       "      <td>0</td>\n",
       "      <td>0</td>\n",
       "      <td>0</td>\n",
       "    </tr>\n",
       "  </tbody>\n",
       "</table>\n",
       "</div>"
      ],
      "text/plain": [
       "   Yexp  Pexp  gender_female  gender_male  ind_design  ind_dev  \\\n",
       "1  0.25     4              0            1           1        0   \n",
       "4  1.00    10              0            1           0        0   \n",
       "\n",
       "   ind_management  ind_other  reg_?  reg_Asia  reg_Belorus  reg_Europe  \\\n",
       "1               0          0      0         0            0           0   \n",
       "4               1          0      0         0            0           0   \n",
       "\n",
       "   reg_ME  reg_Moscow  reg_Russia  reg_StPetersburg  reg_US  reg_Ukraine  \\\n",
       "1       0           0           0                 1       0            0   \n",
       "4       0           1           0                 0       0            0   \n",
       "\n",
       "   reg_Uzbekistan  \n",
       "1               0  \n",
       "4               0  "
      ]
     },
     "execution_count": 19,
     "metadata": {},
     "output_type": "execute_result"
    }
   ],
   "source": [
    "cr_d.head(2)"
   ]
  },
  {
   "cell_type": "code",
   "execution_count": 20,
   "metadata": {
    "collapsed": false
   },
   "outputs": [],
   "source": [
    "mask = (y < 1000000 )* (y>10000)"
   ]
  },
  {
   "cell_type": "code",
   "execution_count": 21,
   "metadata": {
    "collapsed": true
   },
   "outputs": [],
   "source": [
    "X = cr_d[mask]\n",
    "y = y[mask]"
   ]
  },
  {
   "cell_type": "code",
   "execution_count": 22,
   "metadata": {
    "collapsed": true
   },
   "outputs": [],
   "source": [
    "def NormDF(df, axis=0):\n",
    "    return (df - df.mean(axis))/df.std(axis)"
   ]
  },
  {
   "cell_type": "code",
   "execution_count": 23,
   "metadata": {
    "collapsed": true
   },
   "outputs": [],
   "source": [
    "Xn = NormDF(X)"
   ]
  },
  {
   "cell_type": "code",
   "execution_count": 24,
   "metadata": {
    "collapsed": false
   },
   "outputs": [
    {
     "name": "stdout",
     "output_type": "stream",
     "text": [
      "                            OLS Regression Results                            \n",
      "==============================================================================\n",
      "Dep. Variable:               m_income   R-squared:                       0.273\n",
      "Model:                            OLS   Adj. R-squared:                  0.250\n",
      "Method:                 Least Squares   F-statistic:                     11.88\n",
      "Date:                Thu, 09 Jun 2016   Prob (F-statistic):           1.67e-26\n",
      "Time:                        15:26:53   Log-Likelihood:                -6776.5\n",
      "No. Observations:                 523   AIC:                         1.359e+04\n",
      "Df Residuals:                     506   BIC:                         1.366e+04\n",
      "Df Model:                          16                                         \n",
      "Covariance Type:            nonrobust                                         \n",
      "====================================================================================\n",
      "                       coef    std err          t      P>|t|      [95.0% Conf. Int.]\n",
      "------------------------------------------------------------------------------------\n",
      "Yexp              -125.6357   1822.364     -0.069      0.945     -3705.967  3454.695\n",
      "Pexp              3429.3901   1073.428      3.195      0.001      1320.465  5538.315\n",
      "gender_female     6.582e+04   1.46e+04      4.493      0.000       3.7e+04  9.46e+04\n",
      "gender_male       1.272e+05   1.32e+04      9.654      0.000      1.01e+05  1.53e+05\n",
      "ind_design        3.555e+04   9163.165      3.880      0.000      1.75e+04  5.36e+04\n",
      "ind_dev           7.567e+04   1.13e+04      6.715      0.000      5.35e+04  9.78e+04\n",
      "ind_management    6.901e+04   1.15e+04      5.984      0.000      4.64e+04  9.17e+04\n",
      "ind_other         1.279e+04   1.95e+04      0.657      0.511     -2.55e+04  5.11e+04\n",
      "reg_?            -5.583e+04   6.97e+04     -0.801      0.423     -1.93e+05  8.11e+04\n",
      "reg_Asia            3.4e+04   9.71e+04      0.350      0.726     -1.57e+05  2.25e+05\n",
      "reg_Belorus      -1553.7229   2.95e+04     -0.053      0.958     -5.95e+04  5.64e+04\n",
      "reg_Europe       -5.562e+04   4.01e+04     -1.387      0.166     -1.34e+05  2.32e+04\n",
      "reg_ME            5.998e+04   9.76e+04      0.615      0.539     -1.32e+05  2.52e+05\n",
      "reg_Moscow       -5.444e+04   1.83e+04     -2.973      0.003     -9.04e+04 -1.85e+04\n",
      "reg_Russia       -1.056e+05   1.92e+04     -5.498      0.000     -1.43e+05 -6.79e+04\n",
      "reg_StPetersburg -6.961e+04   2.07e+04     -3.360      0.001      -1.1e+05 -2.89e+04\n",
      "reg_US            4.923e+05   5.81e+04      8.472      0.000      3.78e+05  6.06e+05\n",
      "reg_Ukraine        -2.4e+04   2.49e+04     -0.962      0.336      -7.3e+04   2.5e+04\n",
      "reg_Uzbekistan   -2.654e+04   9.74e+04     -0.272      0.785     -2.18e+05  1.65e+05\n",
      "==============================================================================\n",
      "Omnibus:                      448.693   Durbin-Watson:                   1.723\n",
      "Prob(Omnibus):                  0.000   Jarque-Bera (JB):            10901.529\n",
      "Skew:                           3.699   Prob(JB):                         0.00\n",
      "Kurtosis:                      24.107   Cond. No.                     6.33e+16\n",
      "==============================================================================\n",
      "\n",
      "Warnings:\n",
      "[1] Standard Errors assume that the covariance matrix of the errors is correctly specified.\n",
      "[2] The smallest eigenvalue is 1.06e-29. This might indicate that there are\n",
      "strong multicollinearity problems or that the design matrix is singular.\n"
     ]
    }
   ],
   "source": [
    "model = sm.OLS(y, X)\n",
    "results = model.fit()\n",
    "print(results.summary())"
   ]
  },
  {
   "cell_type": "code",
   "execution_count": 25,
   "metadata": {
    "collapsed": false
   },
   "outputs": [
    {
     "data": {
      "text/html": [
       "<div>\n",
       "<table border=\"1\" class=\"dataframe\">\n",
       "  <thead>\n",
       "    <tr style=\"text-align: right;\">\n",
       "      <th></th>\n",
       "      <th>label</th>\n",
       "      <th>predicted</th>\n",
       "      <th>real</th>\n",
       "    </tr>\n",
       "  </thead>\n",
       "  <tbody>\n",
       "    <tr>\n",
       "      <th>1</th>\n",
       "      <td>design</td>\n",
       "      <td>106831.030141</td>\n",
       "      <td>80000</td>\n",
       "    </tr>\n",
       "    <tr>\n",
       "      <th>4</th>\n",
       "      <td>management</td>\n",
       "      <td>175938.872596</td>\n",
       "      <td>400000</td>\n",
       "    </tr>\n",
       "  </tbody>\n",
       "</table>\n",
       "</div>"
      ],
      "text/plain": [
       "        label      predicted    real\n",
       "1      design  106831.030141   80000\n",
       "4  management  175938.872596  400000"
      ]
     },
     "execution_count": 25,
     "metadata": {},
     "output_type": "execute_result"
    }
   ],
   "source": [
    "pp = pd.DataFrame({'real': y, 'predicted':results.predict(),'label': cr.ind[mask]})\n",
    "pp.head(2)"
   ]
  },
  {
   "cell_type": "code",
   "execution_count": 26,
   "metadata": {
    "collapsed": false
   },
   "outputs": [
    {
     "data": {
      "image/png": "[encoded data removed]",
      "text/plain": [
       "<matplotlib.figure.Figure at 0x1094f2e10>"
      ]
     },
     "metadata": {},
     "output_type": "display_data"
    }
   ],
   "source": [
    "# pp[(pp.predicted>0)&(pp.real>0)].plot.scatter(x='predicted',y='real', loglog=1)\n",
    "fig, ax = plt.subplots(figsize=(10,10))\n",
    "\n",
    "colors = 'rgkyw'\n",
    "for i, (name, g) in enumerate(pp.groupby('label')):\n",
    "    g.plot.scatter(x='predicted',y='real', ax=ax, color=colors[i],label=name, alpha=.6)\n",
    "#plt.plot([0,0, 5000000,5000000])"
   ]
  },
  {
   "cell_type": "markdown",
   "metadata": {},
   "source": [
    "## Decision tree"
   ]
  },
  {
   "cell_type": "code",
   "execution_count": 27,
   "metadata": {
    "collapsed": true
   },
   "outputs": [],
   "source": [
    "from sklearn.tree import DecisionTreeRegressor"
   ]
  },
  {
   "cell_type": "code",
   "execution_count": 28,
   "metadata": {
    "collapsed": false
   },
   "outputs": [
    {
     "data": {
      "text/plain": [
       "DecisionTreeRegressor(criterion='mse', max_depth=7, max_features=None,\n",
       "           max_leaf_nodes=None, min_samples_leaf=1, min_samples_split=2,\n",
       "           min_weight_fraction_leaf=0.0, presort=False, random_state=None,\n",
       "           splitter='best')"
      ]
     },
     "execution_count": 28,
     "metadata": {},
     "output_type": "execute_result"
    }
   ],
   "source": [
    "regr_2 = DecisionTreeRegressor(max_depth=7)\n",
    "regr_2.fit(X, y)\n"
   ]
  },
  {
   "cell_type": "code",
   "execution_count": 29,
   "metadata": {
    "collapsed": true
   },
   "outputs": [],
   "source": [
    "y_2 = regr_2.predict(X)"
   ]
  },
  {
   "cell_type": "code",
   "execution_count": 30,
   "metadata": {
    "collapsed": false
   },
   "outputs": [
    {
     "data": {
      "image/png": "[encoded data removed]",
      "text/plain": [
       "<matplotlib.figure.Figure at 0x10a7cda90>"
      ]
     },
     "metadata": {},
     "output_type": "display_data"
    }
   ],
   "source": [
    "fig, ax = plt.subplots(figsize=(10,10))\n",
    "pp = pd.DataFrame({'real': y, 'predicted':y_2, 'label': cr.ind[mask]})\n",
    "pp.head(2)\n",
    "\n",
    "colors = 'rgkyw'\n",
    "for i, (name, g) in enumerate(pp.groupby('label')):\n",
    "    g.plot.scatter(x='predicted',y='real', ax=ax, color=colors[i],label=name, alpha=.6)\n"
   ]
  },
  {
   "cell_type": "code",
   "execution_count": 31,
   "metadata": {
    "collapsed": false
   },
   "outputs": [
    {
     "data": {
      "text/plain": [
       "0.51948098762259698"
      ]
     },
     "execution_count": 31,
     "metadata": {},
     "output_type": "execute_result"
    }
   ],
   "source": [
    "from sklearn.metrics import r2_score\n",
    "from sklearn import tree\n",
    "r2_score(y, y_2)"
   ]
  },
  {
   "cell_type": "code",
   "execution_count": 32,
   "metadata": {
    "collapsed": false
   },
   "outputs": [],
   "source": [
    "tree.export_graphviz(regr_2, out_file='tree.dot') "
   ]
  },
  {
   "cell_type": "code",
   "execution_count": 33,
   "metadata": {
    "collapsed": false
   },
   "outputs": [
    {
     "data": {
      "text/plain": [
       "True"
      ]
     },
     "execution_count": 33,
     "metadata": {},
     "output_type": "execute_result"
    }
   ],
   "source": [
    "import pydot\n",
    "from StringIO import StringIO\n",
    "\n",
    "dotfile = StringIO()\n",
    "tree.export_graphviz(regr_2, out_file=dotfile, feature_names=X.columns.tolist())\n",
    "pydot.graph_from_dot_data(dotfile.getvalue()).write_png(\"dtree2.png\")"
   ]
  },
  {
   "cell_type": "markdown",
   "metadata": {},
   "source": [
    "## Ridge"
   ]
  },
  {
   "cell_type": "code",
   "execution_count": 34,
   "metadata": {
    "collapsed": true
   },
   "outputs": [],
   "source": [
    "from sklearn.linear_model import Ridge"
   ]
  },
  {
   "cell_type": "code",
   "execution_count": 35,
   "metadata": {
    "collapsed": false
   },
   "outputs": [
    {
     "name": "stdout",
     "output_type": "stream",
     "text": [
      "0.272989863318\n"
     ]
    },
    {
     "data": {
      "image/png": "[encoded data removed]",
      "text/plain": [
       "<matplotlib.figure.Figure at 0x10c8086d0>"
      ]
     },
     "metadata": {},
     "output_type": "display_data"
    }
   ],
   "source": [
    "l = []\n",
    "for a in xrange(100):\n",
    "    clf = Ridge(alpha=0.001*a, normalize=True)\n",
    "    clf.fit(X, y)\n",
    "    l.append( clf.score(X,y))\n",
    "    \n",
    "pd.Series(l).plot()\n",
    "print max(l)"
   ]
  },
  {
   "cell_type": "markdown",
   "metadata": {
    "collapsed": true
   },
   "source": [
    "## Interaction"
   ]
  },
  {
   "cell_type": "code",
   "execution_count": 36,
   "metadata": {
    "collapsed": true
   },
   "outputs": [],
   "source": [
    "import statsmodels.formula.api as smf"
   ]
  },
  {
   "cell_type": "code",
   "execution_count": 39,
   "metadata": {
    "collapsed": false
   },
   "outputs": [
    {
     "name": "stderr",
     "output_type": "stream",
     "text": [
      "/Users/casy/anaconda/lib/python2.7/site-packages/ipykernel/__main__.py:2: SettingWithCopyWarning: \n",
      "A value is trying to be set on a copy of a slice from a DataFrame.\n",
      "Try using .loc[row_indexer,col_indexer] = value instead\n",
      "\n",
      "See the caveats in the documentation: http://pandas.pydata.org/pandas-docs/stable/indexing.html#indexing-view-versus-copy\n",
      "  from ipykernel import kernelapp as app\n"
     ]
    }
   ],
   "source": [
    "data = cr[['Yexp','Pexp','gender','ind','reg']]\n",
    "data['mIncome'] = y"
   ]
  },
  {
   "cell_type": "code",
   "execution_count": 40,
   "metadata": {
    "collapsed": false
   },
   "outputs": [
    {
     "data": {
      "text/html": [
       "<div>\n",
       "<table border=\"1\" class=\"dataframe\">\n",
       "  <thead>\n",
       "    <tr style=\"text-align: right;\">\n",
       "      <th></th>\n",
       "      <th>Yexp</th>\n",
       "      <th>Pexp</th>\n",
       "      <th>gender</th>\n",
       "      <th>ind</th>\n",
       "      <th>reg</th>\n",
       "      <th>mIncome</th>\n",
       "    </tr>\n",
       "  </thead>\n",
       "  <tbody>\n",
       "    <tr>\n",
       "      <th>1</th>\n",
       "      <td>0.25</td>\n",
       "      <td>4</td>\n",
       "      <td>male</td>\n",
       "      <td>design</td>\n",
       "      <td>StPetersburg</td>\n",
       "      <td>80000</td>\n",
       "    </tr>\n",
       "    <tr>\n",
       "      <th>4</th>\n",
       "      <td>1.00</td>\n",
       "      <td>10</td>\n",
       "      <td>male</td>\n",
       "      <td>management</td>\n",
       "      <td>Moscow</td>\n",
       "      <td>400000</td>\n",
       "    </tr>\n",
       "    <tr>\n",
       "      <th>5</th>\n",
       "      <td>1.00</td>\n",
       "      <td>5</td>\n",
       "      <td>male</td>\n",
       "      <td>design</td>\n",
       "      <td>Moscow</td>\n",
       "      <td>120000</td>\n",
       "    </tr>\n",
       "    <tr>\n",
       "      <th>6</th>\n",
       "      <td>0.00</td>\n",
       "      <td>4</td>\n",
       "      <td>male</td>\n",
       "      <td>design</td>\n",
       "      <td>Moscow</td>\n",
       "      <td>70000</td>\n",
       "    </tr>\n",
       "    <tr>\n",
       "      <th>7</th>\n",
       "      <td>0.00</td>\n",
       "      <td>0</td>\n",
       "      <td>male</td>\n",
       "      <td>management</td>\n",
       "      <td>Moscow</td>\n",
       "      <td>100000</td>\n",
       "    </tr>\n",
       "  </tbody>\n",
       "</table>\n",
       "</div>"
      ],
      "text/plain": [
       "   Yexp  Pexp gender         ind           reg  mIncome\n",
       "1  0.25     4   male      design  StPetersburg    80000\n",
       "4  1.00    10   male  management        Moscow   400000\n",
       "5  1.00     5   male      design        Moscow   120000\n",
       "6  0.00     4   male      design        Moscow    70000\n",
       "7  0.00     0   male  management        Moscow   100000"
      ]
     },
     "execution_count": 40,
     "metadata": {},
     "output_type": "execute_result"
    }
   ],
   "source": [
    "data.head()"
   ]
  },
  {
   "cell_type": "code",
   "execution_count": 42,
   "metadata": {
    "collapsed": false
   },
   "outputs": [
    {
     "name": "stdout",
     "output_type": "stream",
     "text": [
      "Intercept                       95178.571429\n",
      "C(reg)[T.Asia]                   4828.011204\n",
      "C(reg)[T.Belorus]              -33124.853547\n",
      "C(reg)[T.Europe]               -76914.915179\n",
      "C(reg)[T.ME]                     2539.611905\n",
      "C(reg)[T.Moscow]                 6379.747114\n",
      "C(reg)[T.Russia]                 2000.322904\n",
      "C(reg)[T.StPetersburg]           7972.903829\n",
      "C(reg)[T.US]                   187375.400938\n",
      "C(reg)[T.Ukraine]              -62976.613592\n",
      "C(reg)[T.Uzbekistan]              317.656766\n",
      "Pexp                             8273.809524\n",
      "Pexp:C(reg)[T.Asia]             19312.044818\n",
      "Pexp:C(reg)[T.Belorus]          12112.001240\n",
      "Pexp:C(reg)[T.Europe]            5438.001023\n",
      "Pexp:C(reg)[T.ME]               17777.283333\n",
      "Pexp:C(reg)[T.Moscow]           -4443.449245\n",
      "Pexp:C(reg)[T.Russia]           -9404.846610\n",
      "Pexp:C(reg)[T.StPetersburg]     -6269.678295\n",
      "Pexp:C(reg)[T.US]               29340.611892\n",
      "Pexp:C(reg)[T.Ukraine]          12762.170969\n",
      "Pexp:C(reg)[T.Uzbekistan]        3176.567657\n",
      "dtype: float64\n"
     ]
    }
   ],
   "source": [
    "res = smf.ols(formula='mIncome ~ Pexp*C(reg)', data=data).fit()\n",
    "print res.params"
   ]
  },
  {
   "cell_type": "code",
   "execution_count": 43,
   "metadata": {
    "collapsed": false
   },
   "outputs": [
    {
     "name": "stdout",
     "output_type": "stream",
     "text": [
      "Intercept                    72215.504339\n",
      "C(ind)[T.dev]                23750.430376\n",
      "C(ind)[T.management]         38002.914421\n",
      "C(ind)[T.other]              17320.997917\n",
      "Pexp                          6072.498490\n",
      "Pexp:C(ind)[T.dev]            2473.919478\n",
      "Pexp:C(ind)[T.management]    -2291.115718\n",
      "Pexp:C(ind)[T.other]         -8204.366058\n",
      "dtype: float64\n"
     ]
    }
   ],
   "source": [
    "res = smf.ols(formula='mIncome ~ Pexp*C(ind)', data=data).fit()\n",
    "print res.params"
   ]
  },
  {
   "cell_type": "code",
   "execution_count": 46,
   "metadata": {
    "collapsed": false
   },
   "outputs": [
    {
     "name": "stdout",
     "output_type": "stream",
     "text": [
      "Intercept                                      1.779167e+05\n",
      "C(reg)[T.Asia]                                 3.243333e+04\n",
      "C(reg)[T.Belorus]                             -3.007132e+04\n",
      "C(reg)[T.Europe]                              -9.788333e+04\n",
      "C(reg)[T.ME]                                   4.267547e+03\n",
      "C(reg)[T.Moscow]                              -5.655466e+04\n",
      "C(reg)[T.Russia]                              -1.114244e+05\n",
      "C(reg)[T.StPetersburg]                        -8.996946e+04\n",
      "C(reg)[T.US]                                   6.037500e+05\n",
      "C(reg)[T.Ukraine]                             -3.730507e+04\n",
      "C(reg)[T.Uzbekistan]                           4.500000e+04\n",
      "C(ind)[T.dev]                                 -5.791667e+04\n",
      "C(ind)[T.management]                           9.362407e+04\n",
      "C(ind)[T.other]                               -1.836954e+04\n",
      "C(reg)[T.Asia]:C(ind)[T.dev]                   1.583171e-10\n",
      "C(reg)[T.Belorus]:C(ind)[T.dev]                7.846021e+04\n",
      "C(reg)[T.Europe]:C(ind)[T.dev]                 1.716229e+05\n",
      "C(reg)[T.ME]:C(ind)[T.dev]                    -5.547473e-12\n",
      "C(reg)[T.Moscow]:C(ind)[T.dev]                 7.995019e+04\n",
      "C(reg)[T.Russia]:C(ind)[T.dev]                 1.140520e+05\n",
      "C(reg)[T.StPetersburg]:C(ind)[T.dev]           1.381426e+05\n",
      "C(reg)[T.US]:C(ind)[T.dev]                    -3.250000e+04\n",
      "C(reg)[T.Ukraine]:C(ind)[T.dev]                1.879717e+05\n",
      "C(reg)[T.Uzbekistan]:C(ind)[T.dev]             4.500000e+04\n",
      "C(reg)[T.Asia]:C(ind)[T.management]           -4.812311e-11\n",
      "C(reg)[T.Belorus]:C(ind)[T.management]         2.660306e+05\n",
      "C(reg)[T.Europe]:C(ind)[T.management]         -3.338766e-11\n",
      "C(reg)[T.ME]:C(ind)[T.management]              4.267547e+03\n",
      "C(reg)[T.Moscow]:C(ind)[T.management]         -7.589086e+04\n",
      "C(reg)[T.Russia]:C(ind)[T.management]         -8.197196e+04\n",
      "C(reg)[T.StPetersburg]:C(ind)[T.management]   -1.881123e+04\n",
      "C(reg)[T.US]:C(ind)[T.management]              0.000000e+00\n",
      "C(reg)[T.Ukraine]:C(ind)[T.management]         0.000000e+00\n",
      "C(reg)[T.Uzbekistan]:C(ind)[T.management]      0.000000e+00\n",
      "C(reg)[T.Asia]:C(ind)[T.other]                 0.000000e+00\n",
      "C(reg)[T.Belorus]:C(ind)[T.other]              0.000000e+00\n",
      "C(reg)[T.Europe]:C(ind)[T.other]               1.673621e+04\n",
      "C(reg)[T.ME]:C(ind)[T.other]                   0.000000e+00\n",
      "C(reg)[T.Moscow]:C(ind)[T.other]              -3.123478e+04\n",
      "C(reg)[T.Russia]:C(ind)[T.other]               1.637768e+04\n",
      "C(reg)[T.StPetersburg]:C(ind)[T.other]        -2.024866e+04\n",
      "C(reg)[T.US]:C(ind)[T.other]                   0.000000e+00\n",
      "C(reg)[T.Ukraine]:C(ind)[T.other]              0.000000e+00\n",
      "C(reg)[T.Uzbekistan]:C(ind)[T.other]           0.000000e+00\n",
      "dtype: float64\n"
     ]
    }
   ],
   "source": [
    "res = smf.ols(formula='mIncome ~ C(reg)*C(ind)', data=data).fit()\n",
    "print res.params"
   ]
  },
  {
   "cell_type": "code",
   "execution_count": 47,
   "metadata": {
    "collapsed": false
   },
   "outputs": [
    {
     "name": "stdout",
     "output_type": "stream",
     "text": [
      "Intercept                                    78012.669849\n",
      "C(gender)[T.male]                            70945.663485\n",
      "C(reg)[T.Asia]                               30695.833333\n",
      "C(reg)[T.Belorus]                            20316.913485\n",
      "C(reg)[T.Europe]                             26365.107929\n",
      "C(reg)[T.ME]                                 65558.750000\n",
      "C(reg)[T.Moscow]                              4386.374772\n",
      "C(reg)[T.Russia]                            -37078.189690\n",
      "C(reg)[T.StPetersburg]                      -15516.550801\n",
      "C(reg)[T.US]                                286215.277778\n",
      "C(reg)[T.Ukraine]                           -11523.419849\n",
      "C(reg)[T.Uzbekistan]                         30520.833333\n",
      "C(gender)[T.male]:C(reg)[T.Asia]             30695.833333\n",
      "C(gender)[T.male]:C(reg)[T.Belorus]          30182.461515\n",
      "C(gender)[T.male]:C(reg)[T.Europe]          -57103.649596\n",
      "C(gender)[T.male]:C(reg)[T.ME]               65558.750000\n",
      "C(gender)[T.male]:C(reg)[T.Moscow]           -6994.397258\n",
      "C(gender)[T.male]:C(reg)[T.Russia]          -13572.434287\n",
      "C(gender)[T.male]:C(reg)[T.StPetersburg]     -3271.617409\n",
      "C(gender)[T.male]:C(reg)[T.US]              286215.277778\n",
      "C(gender)[T.male]:C(reg)[T.Ukraine]          30642.866515\n",
      "C(gender)[T.male]:C(reg)[T.Uzbekistan]       30520.833333\n",
      "dtype: float64\n"
     ]
    }
   ],
   "source": [
    "res = smf.ols(formula='mIncome ~ C(gender)*C(reg)', data=data).fit()\n",
    "print res.params"
   ]
  },
  {
   "cell_type": "code",
   "execution_count": 48,
   "metadata": {
    "collapsed": false
   },
   "outputs": [
    {
     "name": "stdout",
     "output_type": "stream",
     "text": [
      "Intercept                                 69640.480769\n",
      "C(gender)[T.male]                         53815.242733\n",
      "C(ind)[T.dev]                             20943.898860\n",
      "C(ind)[T.management]                      12791.157356\n",
      "C(ind)[T.other]                          -17154.412587\n",
      "C(gender)[T.male]:C(ind)[T.dev]           15117.749945\n",
      "C(gender)[T.male]:C(ind)[T.management]    33456.113103\n",
      "C(gender)[T.male]:C(ind)[T.other]        -25591.945530\n",
      "dtype: float64\n"
     ]
    }
   ],
   "source": [
    "res = smf.ols(formula='mIncome ~ C(gender)*C(ind)', data=data).fit()\n",
    "print res.params"
   ]
  },
  {
   "cell_type": "code",
   "execution_count": 49,
   "metadata": {
    "collapsed": false
   },
   "outputs": [
    {
     "name": "stdout",
     "output_type": "stream",
     "text": [
      "Intercept            73732.023533\n",
      "C(gender)[T.male]    65315.313632\n",
      "dtype: float64\n"
     ]
    }
   ],
   "source": [
    "res = smf.ols(formula='mIncome ~ C(gender)', data=data).fit()\n",
    "print res.params"
   ]
  },
  {
   "cell_type": "code",
   "execution_count": null,
   "metadata": {
    "collapsed": true
   },
   "outputs": [],
   "source": []
  }
 ],
 "metadata": {
  "kernelspec": {
   "display_name": "Python 2",
   "language": "python",
   "name": "python2"
  },
  "language_info": {
   "codemirror_mode": {
    "name": "ipython",
    "version": 2
   },
   "file_extension": ".py",
   "mimetype": "text/x-python",
   "name": "python",
   "nbconvert_exporter": "python",
   "pygments_lexer": "ipython2",
   "version": "2.7.11"
  }
 },
 "nbformat": 4,
 "nbformat_minor": 0
}
