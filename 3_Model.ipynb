{
 "cells": [
  {
   "cell_type": "code",
   "execution_count": 1,
   "metadata": {
    "collapsed": false
   },
   "outputs": [
    {
     "name": "stdout",
     "output_type": "stream",
     "text": [
      "Populating the interactive namespace from numpy and matplotlib\n"
     ]
    }
   ],
   "source": [
    "import pandas as pd\n",
    "import numpy as np\n",
    "\n",
    "%pylab inline\n",
    "import matplotlib.pyplot as plt\n",
    "from ipynotifyer import notifyOnComplete as nf"
   ]
  },
  {
   "cell_type": "code",
   "execution_count": 2,
   "metadata": {
    "collapsed": true
   },
   "outputs": [],
   "source": [
    "import statsmodels.api as sm\n",
    "from statsmodels.sandbox.regression.predstd import wls_prediction_std"
   ]
  },
  {
   "cell_type": "code",
   "execution_count": 3,
   "metadata": {
    "collapsed": true
   },
   "outputs": [],
   "source": [
    "cr = pd.read_csv('data/processed.csv',index_col=0)[['Yexp','Pexp',\n",
    "                                                    'gender','income',\n",
    "                                                    'city_y', 'ind', 'reg']]\n",
    "\n",
    "cr.city_y.replace('Kyiv','Kiev', inplace=1)\n",
    "cr.gender.replace('unknown', np.nan, inplace=1)"
   ]
  },
  {
   "cell_type": "code",
   "execution_count": 4,
   "metadata": {
    "collapsed": false
   },
   "outputs": [
    {
     "data": {
      "text/html": [
       "<div>\n",
       "<table border=\"1\" class=\"dataframe\">\n",
       "  <thead>\n",
       "    <tr style=\"text-align: right;\">\n",
       "      <th></th>\n",
       "      <th>Yexp</th>\n",
       "      <th>Pexp</th>\n",
       "      <th>gender</th>\n",
       "      <th>income</th>\n",
       "      <th>city_y</th>\n",
       "      <th>ind</th>\n",
       "      <th>reg</th>\n",
       "    </tr>\n",
       "  </thead>\n",
       "  <tbody>\n",
       "    <tr>\n",
       "      <th>0</th>\n",
       "      <td>1.55</td>\n",
       "      <td>5</td>\n",
       "      <td>male</td>\n",
       "      <td>1560000</td>\n",
       "      <td>NaN</td>\n",
       "      <td>design</td>\n",
       "      <td>NaN</td>\n",
       "    </tr>\n",
       "    <tr>\n",
       "      <th>1</th>\n",
       "      <td>0.25</td>\n",
       "      <td>4</td>\n",
       "      <td>male</td>\n",
       "      <td>960000</td>\n",
       "      <td>StPetersburg</td>\n",
       "      <td>design</td>\n",
       "      <td>StPetersburg</td>\n",
       "    </tr>\n",
       "    <tr>\n",
       "      <th>2</th>\n",
       "      <td>0.25</td>\n",
       "      <td>4</td>\n",
       "      <td>male</td>\n",
       "      <td>960000</td>\n",
       "      <td>StPetersburg</td>\n",
       "      <td>design</td>\n",
       "      <td>StPetersburg</td>\n",
       "    </tr>\n",
       "    <tr>\n",
       "      <th>3</th>\n",
       "      <td>0.25</td>\n",
       "      <td>4</td>\n",
       "      <td>male</td>\n",
       "      <td>960000</td>\n",
       "      <td>StPetersburg</td>\n",
       "      <td>design</td>\n",
       "      <td>StPetersburg</td>\n",
       "    </tr>\n",
       "    <tr>\n",
       "      <th>4</th>\n",
       "      <td>0.25</td>\n",
       "      <td>4</td>\n",
       "      <td>male</td>\n",
       "      <td>960000</td>\n",
       "      <td>StPetersburg</td>\n",
       "      <td>design</td>\n",
       "      <td>StPetersburg</td>\n",
       "    </tr>\n",
       "  </tbody>\n",
       "</table>\n",
       "</div>"
      ],
      "text/plain": [
       "   Yexp  Pexp gender   income        city_y     ind           reg\n",
       "0  1.55     5   male  1560000           NaN  design           NaN\n",
       "1  0.25     4   male   960000  StPetersburg  design  StPetersburg\n",
       "2  0.25     4   male   960000  StPetersburg  design  StPetersburg\n",
       "3  0.25     4   male   960000  StPetersburg  design  StPetersburg\n",
       "4  0.25     4   male   960000  StPetersburg  design  StPetersburg"
      ]
     },
     "execution_count": 4,
     "metadata": {},
     "output_type": "execute_result"
    }
   ],
   "source": [
    "cr.head()"
   ]
  },
  {
   "cell_type": "code",
   "execution_count": 5,
   "metadata": {
    "collapsed": false
   },
   "outputs": [],
   "source": [
    "\n",
    "# .LinearRegression"
   ]
  },
  {
   "cell_type": "code",
   "execution_count": 11,
   "metadata": {
    "collapsed": false
   },
   "outputs": [],
   "source": [
    "# create dummy (binary) variables from categorical ones\n",
    "cr_d = pd.get_dummies(cr[['Yexp','Pexp','gender','ind','reg']])\n",
    "y = cr['income']"
   ]
  },
  {
   "cell_type": "code",
   "execution_count": 12,
   "metadata": {
    "collapsed": false
   },
   "outputs": [
    {
     "data": {
      "text/html": [
       "<div>\n",
       "<table border=\"1\" class=\"dataframe\">\n",
       "  <thead>\n",
       "    <tr style=\"text-align: right;\">\n",
       "      <th></th>\n",
       "      <th>Yexp</th>\n",
       "      <th>Pexp</th>\n",
       "      <th>gender_female</th>\n",
       "      <th>gender_male</th>\n",
       "      <th>ind_design</th>\n",
       "      <th>ind_dev</th>\n",
       "      <th>ind_management</th>\n",
       "      <th>ind_other</th>\n",
       "      <th>reg_?</th>\n",
       "      <th>reg_Asia</th>\n",
       "      <th>reg_Belorus</th>\n",
       "      <th>reg_Europe</th>\n",
       "      <th>reg_ME</th>\n",
       "      <th>reg_Moscow</th>\n",
       "      <th>reg_Russia</th>\n",
       "      <th>reg_StPetersburg</th>\n",
       "      <th>reg_US</th>\n",
       "      <th>reg_Ukraine</th>\n",
       "      <th>reg_Uzbekistan</th>\n",
       "    </tr>\n",
       "  </thead>\n",
       "  <tbody>\n",
       "    <tr>\n",
       "      <th>0</th>\n",
       "      <td>1.55</td>\n",
       "      <td>5</td>\n",
       "      <td>0</td>\n",
       "      <td>1</td>\n",
       "      <td>1</td>\n",
       "      <td>0</td>\n",
       "      <td>0</td>\n",
       "      <td>0</td>\n",
       "      <td>0</td>\n",
       "      <td>0</td>\n",
       "      <td>0</td>\n",
       "      <td>0</td>\n",
       "      <td>0</td>\n",
       "      <td>0</td>\n",
       "      <td>0</td>\n",
       "      <td>0</td>\n",
       "      <td>0</td>\n",
       "      <td>0</td>\n",
       "      <td>0</td>\n",
       "    </tr>\n",
       "    <tr>\n",
       "      <th>1</th>\n",
       "      <td>0.25</td>\n",
       "      <td>4</td>\n",
       "      <td>0</td>\n",
       "      <td>1</td>\n",
       "      <td>1</td>\n",
       "      <td>0</td>\n",
       "      <td>0</td>\n",
       "      <td>0</td>\n",
       "      <td>0</td>\n",
       "      <td>0</td>\n",
       "      <td>0</td>\n",
       "      <td>0</td>\n",
       "      <td>0</td>\n",
       "      <td>0</td>\n",
       "      <td>0</td>\n",
       "      <td>1</td>\n",
       "      <td>0</td>\n",
       "      <td>0</td>\n",
       "      <td>0</td>\n",
       "    </tr>\n",
       "  </tbody>\n",
       "</table>\n",
       "</div>"
      ],
      "text/plain": [
       "   Yexp  Pexp  gender_female  gender_male  ind_design  ind_dev  \\\n",
       "0  1.55     5              0            1           1        0   \n",
       "1  0.25     4              0            1           1        0   \n",
       "\n",
       "   ind_management  ind_other  reg_?  reg_Asia  reg_Belorus  reg_Europe  \\\n",
       "0               0          0      0         0            0           0   \n",
       "1               0          0      0         0            0           0   \n",
       "\n",
       "   reg_ME  reg_Moscow  reg_Russia  reg_StPetersburg  reg_US  reg_Ukraine  \\\n",
       "0       0           0           0                 0       0            0   \n",
       "1       0           0           0                 1       0            0   \n",
       "\n",
       "   reg_Uzbekistan  \n",
       "0               0  \n",
       "1               0  "
      ]
     },
     "execution_count": 12,
     "metadata": {},
     "output_type": "execute_result"
    }
   ],
   "source": [
    "cr_d.head(2)"
   ]
  },
  {
   "cell_type": "code",
   "execution_count": 13,
   "metadata": {
    "collapsed": false
   },
   "outputs": [
    {
     "name": "stderr",
     "output_type": "stream",
     "text": [
      "/Users/casy/anaconda/lib/python2.7/site-packages/pandas/computation/expressions.py:190: UserWarning: evaluating in Python space because the '*' operator is not supported by numexpr for the bool dtype, use '&' instead\n",
      "  unsupported[op_str]))\n"
     ]
    }
   ],
   "source": [
    "mask = (y < 6000000 )* (y>1000)"
   ]
  },
  {
   "cell_type": "code",
   "execution_count": 21,
   "metadata": {
    "collapsed": true
   },
   "outputs": [],
   "source": [
    "X = cr_d[mask]\n",
    "y = y[mask]"
   ]
  },
  {
   "cell_type": "code",
   "execution_count": 22,
   "metadata": {
    "collapsed": true
   },
   "outputs": [],
   "source": [
    "def NormDF(df, axis=0):\n",
    "    return (df - df.mean(axis))/df.std(axis)"
   ]
  },
  {
   "cell_type": "code",
   "execution_count": 23,
   "metadata": {
    "collapsed": true
   },
   "outputs": [],
   "source": [
    "# X = NormDF(X)"
   ]
  },
  {
   "cell_type": "code",
   "execution_count": 24,
   "metadata": {
    "collapsed": false
   },
   "outputs": [
    {
     "name": "stdout",
     "output_type": "stream",
     "text": [
      "                            OLS Regression Results                            \n",
      "==============================================================================\n",
      "Dep. Variable:                 income   R-squared:                       0.755\n",
      "Model:                            OLS   Adj. R-squared:                  0.754\n",
      "Method:                 Least Squares   F-statistic:                     683.7\n",
      "Date:                Thu, 14 Apr 2016   Prob (F-statistic):               0.00\n",
      "Time:                        20:25:15   Log-Likelihood:                -63059.\n",
      "No. Observations:                4233   AIC:                         1.262e+05\n",
      "Df Residuals:                    4214   BIC:                         1.263e+05\n",
      "Df Model:                          19                                         \n",
      "Covariance Type:            nonrobust                                         \n",
      "====================================================================================\n",
      "                       coef    std err          t      P>|t|      [95.0% Conf. Int.]\n",
      "------------------------------------------------------------------------------------\n",
      "Yexp             -7.663e+04   5964.716    -12.847      0.000     -8.83e+04 -6.49e+04\n",
      "Pexp              3.596e+04   2827.168     12.718      0.000      3.04e+04  4.15e+04\n",
      "gender_female     4.511e+05   7.03e+04      6.418      0.000      3.13e+05  5.89e+05\n",
      "gender_male        1.02e+06   6.77e+04     15.071      0.000      8.87e+05  1.15e+06\n",
      "ind_design        4.594e+05    6.4e+04      7.174      0.000      3.34e+05  5.85e+05\n",
      "ind_dev           7.147e+05   8.21e+04      8.709      0.000      5.54e+05  8.76e+05\n",
      "ind_management     7.93e+05   8.55e+04      9.275      0.000      6.25e+05  9.61e+05\n",
      "ind_other         5.961e+05   1.33e+05      4.491      0.000      3.36e+05  8.56e+05\n",
      "reg_?            -1.651e+04   4.16e+05     -0.040      0.968     -8.32e+05  7.99e+05\n",
      "reg_Asia          9.775e+05   7.16e+05      1.365      0.172     -4.26e+05  2.38e+06\n",
      "reg_Belorus       2.971e+05   1.37e+05      2.165      0.030      2.81e+04  5.66e+05\n",
      "reg_Europe        2.193e+05   1.48e+05      1.479      0.139     -7.15e+04   5.1e+05\n",
      "reg_ME            5.053e+05   4.17e+05      1.212      0.226     -3.12e+05  1.32e+06\n",
      "reg_Moscow       -1.208e+05   3.73e+04     -3.242      0.001     -1.94e+05 -4.77e+04\n",
      "reg_Russia        -7.22e+05   4.32e+04    -16.719      0.000     -8.07e+05 -6.37e+05\n",
      "reg_StPetersburg -4.583e+05   4.37e+04    -10.489      0.000     -5.44e+05 -3.73e+05\n",
      "reg_US            3.048e+06   7.18e+05      4.244      0.000      1.64e+06  4.46e+06\n",
      "reg_Ukraine       3.149e+05   6.04e+04      5.210      0.000      1.96e+05  4.33e+05\n",
      "reg_Uzbekistan    8.088e+05   7.18e+05      1.126      0.260     -5.99e+05  2.22e+06\n",
      "==============================================================================\n",
      "Omnibus:                     1557.038   Durbin-Watson:                   0.475\n",
      "Prob(Omnibus):                  0.000   Jarque-Bera (JB):             7265.401\n",
      "Skew:                           1.729   Prob(JB):                         0.00\n",
      "Kurtosis:                       8.407   Cond. No.                         538.\n",
      "==============================================================================\n",
      "\n",
      "Warnings:\n",
      "[1] Standard Errors assume that the covariance matrix of the errors is correctly specified.\n"
     ]
    }
   ],
   "source": [
    "model = sm.OLS(y, X)\n",
    "results = model.fit()\n",
    "print(results.summary())"
   ]
  },
  {
   "cell_type": "code",
   "execution_count": 16,
   "metadata": {
    "collapsed": false
   },
   "outputs": [
    {
     "data": {
      "text/html": [
       "<div>\n",
       "<table border=\"1\" class=\"dataframe\">\n",
       "  <thead>\n",
       "    <tr style=\"text-align: right;\">\n",
       "      <th></th>\n",
       "      <th>predicted</th>\n",
       "      <th>real</th>\n",
       "    </tr>\n",
       "  </thead>\n",
       "  <tbody>\n",
       "    <tr>\n",
       "      <th>0</th>\n",
       "      <td>1540470.616534</td>\n",
       "      <td>1560000</td>\n",
       "    </tr>\n",
       "    <tr>\n",
       "      <th>1</th>\n",
       "      <td>1145854.057492</td>\n",
       "      <td>960000</td>\n",
       "    </tr>\n",
       "  </tbody>\n",
       "</table>\n",
       "</div>"
      ],
      "text/plain": [
       "        predicted     real\n",
       "0  1540470.616534  1560000\n",
       "1  1145854.057492   960000"
      ]
     },
     "execution_count": 16,
     "metadata": {},
     "output_type": "execute_result"
    }
   ],
   "source": [
    "pp = pd.DataFrame({'real': y, 'predicted':results.predict()})\n",
    "pp.head(2)"
   ]
  },
  {
   "cell_type": "code",
   "execution_count": 17,
   "metadata": {
    "collapsed": false
   },
   "outputs": [
    {
     "data": {
      "text/plain": [
       "<matplotlib.axes._subplots.AxesSubplot at 0x10a370f90>"
      ]
     },
     "execution_count": 17,
     "metadata": {},
     "output_type": "execute_result"
    },
    {
     "data": {
      "image/png": "[encoded data removed]",
      "text/plain": [
       "<matplotlib.figure.Figure at 0x10a2e3d50>"
      ]
     },
     "metadata": {},
     "output_type": "display_data"
    }
   ],
   "source": [
    "# pp[(pp.predicted>0)&(pp.real>0)].plot.scatter(x='predicted',y='real', loglog=1)\n",
    "pp.plot.scatter(x='predicted',y='real')"
   ]
  },
  {
   "cell_type": "code",
   "execution_count": 58,
   "metadata": {
    "collapsed": true
   },
   "outputs": [],
   "source": [
    "X = cr_d[cr_d.income<10000000][['Yexp', 'Pexp', 'gender_female', 'gender_male']]\n",
    "y = cr_d[cr_d.income<10000000]['income']"
   ]
  },
  {
   "cell_type": "code",
   "execution_count": 59,
   "metadata": {
    "collapsed": false
   },
   "outputs": [
    {
     "name": "stdout",
     "output_type": "stream",
     "text": [
      "                            OLS Regression Results                            \n",
      "==============================================================================\n",
      "Dep. Variable:                 income   R-squared:                       0.658\n",
      "Model:                            OLS   Adj. R-squared:                  0.658\n",
      "Method:                 Least Squares   F-statistic:                     2043.\n",
      "Date:                Thu, 14 Apr 2016   Prob (F-statistic):               0.00\n",
      "Time:                        16:28:26   Log-Likelihood:                -64330.\n",
      "No. Observations:                4254   AIC:                         1.287e+05\n",
      "Df Residuals:                    4250   BIC:                         1.287e+05\n",
      "Df Model:                           4                                         \n",
      "Covariance Type:            nonrobust                                         \n",
      "=================================================================================\n",
      "                    coef    std err          t      P>|t|      [95.0% Conf. Int.]\n",
      "---------------------------------------------------------------------------------\n",
      "Yexp          -6.946e+04   7276.950     -9.545      0.000     -8.37e+04 -5.52e+04\n",
      "Pexp           3.813e+04   3509.169     10.865      0.000      3.12e+04   4.5e+04\n",
      "gender_female  7.054e+05   3.56e+04     19.802      0.000      6.36e+05  7.75e+05\n",
      "gender_male    1.242e+06   2.63e+04     47.163      0.000      1.19e+06  1.29e+06\n",
      "==============================================================================\n",
      "Omnibus:                     3052.732   Durbin-Watson:                   0.502\n",
      "Prob(Omnibus):                  0.000   Jarque-Bera (JB):            74124.525\n",
      "Skew:                           3.145   Prob(JB):                         0.00\n",
      "Kurtosis:                      22.459   Cond. No.                         23.2\n",
      "==============================================================================\n",
      "\n",
      "Warnings:\n",
      "[1] Standard Errors assume that the covariance matrix of the errors is correctly specified.\n"
     ]
    }
   ],
   "source": [
    "model = sm.OLS(y, X)\n",
    "results = model.fit()\n",
    "print(results.summary())"
   ]
  },
  {
   "cell_type": "code",
   "execution_count": 62,
   "metadata": {
    "collapsed": true
   },
   "outputs": [],
   "source": [
    "from sklearn.linear_model import LogisticRegression"
   ]
  },
  {
   "cell_type": "code",
   "execution_count": 63,
   "metadata": {
    "collapsed": false
   },
   "outputs": [
    {
     "ename": "ValueError",
     "evalue": "Unknown label type: array([ 1560000.,   960000.,   960000., ...,  1690000.,   660000.,\n         996012.])",
     "output_type": "error",
     "traceback": [
      "\u001b[0;31m---------------------------------------------------------------------------\u001b[0m",
      "\u001b[0;31mValueError\u001b[0m                                Traceback (most recent call last)",
      "\u001b[0;32m<ipython-input-63-48fe0abe717a>\u001b[0m in \u001b[0;36m<module>\u001b[0;34m()\u001b[0m\n\u001b[1;32m      1\u001b[0m \u001b[0mlogit_classifier\u001b[0m \u001b[0;34m=\u001b[0m \u001b[0mLogisticRegression\u001b[0m\u001b[0;34m(\u001b[0m\u001b[0mpenalty\u001b[0m\u001b[0;34m=\u001b[0m\u001b[0;34m\"l1\"\u001b[0m\u001b[0;34m,\u001b[0m \u001b[0msolver\u001b[0m\u001b[0;34m=\u001b[0m\u001b[0;34m'liblinear'\u001b[0m\u001b[0;34m,\u001b[0m \u001b[0mverbose\u001b[0m\u001b[0;34m=\u001b[0m\u001b[0;36m2\u001b[0m\u001b[0;34m)\u001b[0m\u001b[0;34m\u001b[0m\u001b[0m\n\u001b[0;32m----> 2\u001b[0;31m \u001b[0mlogit_classifier\u001b[0m\u001b[0;34m.\u001b[0m\u001b[0mfit\u001b[0m\u001b[0;34m(\u001b[0m\u001b[0mX\u001b[0m\u001b[0;34m=\u001b[0m\u001b[0mX\u001b[0m\u001b[0;34m,\u001b[0m \u001b[0my\u001b[0m\u001b[0;34m=\u001b[0m\u001b[0my\u001b[0m\u001b[0;34m)\u001b[0m\u001b[0;34m\u001b[0m\u001b[0m\n\u001b[0m\u001b[1;32m      3\u001b[0m \u001b[0;34m\u001b[0m\u001b[0m\n\u001b[1;32m      4\u001b[0m \u001b[0mlogit_predictions\u001b[0m \u001b[0;34m=\u001b[0m \u001b[0mlogit_classifier\u001b[0m\u001b[0;34m.\u001b[0m\u001b[0mpredict_proba\u001b[0m\u001b[0;34m(\u001b[0m\u001b[0mpred_test\u001b[0m\u001b[0;34m)\u001b[0m\u001b[0;34m[\u001b[0m\u001b[0;34m:\u001b[0m\u001b[0;34m,\u001b[0m \u001b[0;36m1\u001b[0m\u001b[0;34m]\u001b[0m\u001b[0;34m\u001b[0m\u001b[0m\n",
      "\u001b[0;32m/Users/casy/anaconda/lib/python2.7/site-packages/sklearn/linear_model/logistic.pyc\u001b[0m in \u001b[0;36mfit\u001b[0;34m(self, X, y, sample_weight)\u001b[0m\n\u001b[1;32m   1141\u001b[0m         X, y = check_X_y(X, y, accept_sparse='csr', dtype=np.float64, \n\u001b[1;32m   1142\u001b[0m                          order=\"C\")\n\u001b[0;32m-> 1143\u001b[0;31m         \u001b[0mcheck_classification_targets\u001b[0m\u001b[0;34m(\u001b[0m\u001b[0my\u001b[0m\u001b[0;34m)\u001b[0m\u001b[0;34m\u001b[0m\u001b[0m\n\u001b[0m\u001b[1;32m   1144\u001b[0m         \u001b[0mself\u001b[0m\u001b[0;34m.\u001b[0m\u001b[0mclasses_\u001b[0m \u001b[0;34m=\u001b[0m \u001b[0mnp\u001b[0m\u001b[0;34m.\u001b[0m\u001b[0munique\u001b[0m\u001b[0;34m(\u001b[0m\u001b[0my\u001b[0m\u001b[0;34m)\u001b[0m\u001b[0;34m\u001b[0m\u001b[0m\n\u001b[1;32m   1145\u001b[0m         \u001b[0mn_samples\u001b[0m\u001b[0;34m,\u001b[0m \u001b[0mn_features\u001b[0m \u001b[0;34m=\u001b[0m \u001b[0mX\u001b[0m\u001b[0;34m.\u001b[0m\u001b[0mshape\u001b[0m\u001b[0;34m\u001b[0m\u001b[0m\n",
      "\u001b[0;32m/Users/casy/anaconda/lib/python2.7/site-packages/sklearn/utils/multiclass.pyc\u001b[0m in \u001b[0;36mcheck_classification_targets\u001b[0;34m(y)\u001b[0m\n\u001b[1;32m    171\u001b[0m     if y_type not in ['binary', 'multiclass', 'multiclass-multioutput', \n\u001b[1;32m    172\u001b[0m             'multilabel-indicator', 'multilabel-sequences']:\n\u001b[0;32m--> 173\u001b[0;31m         \u001b[0;32mraise\u001b[0m \u001b[0mValueError\u001b[0m\u001b[0;34m(\u001b[0m\u001b[0;34m\"Unknown label type: %r\"\u001b[0m \u001b[0;34m%\u001b[0m \u001b[0my\u001b[0m\u001b[0;34m)\u001b[0m\u001b[0;34m\u001b[0m\u001b[0m\n\u001b[0m\u001b[1;32m    174\u001b[0m \u001b[0;34m\u001b[0m\u001b[0m\n\u001b[1;32m    175\u001b[0m \u001b[0;34m\u001b[0m\u001b[0m\n",
      "\u001b[0;31mValueError\u001b[0m: Unknown label type: array([ 1560000.,   960000.,   960000., ...,  1690000.,   660000.,\n         996012.])"
     ]
    }
   ],
   "source": [
    "logit_classifier = LogisticRegression(penalty=\"l1\", solver='liblinear', verbose=2)\n",
    "logit_classifier.fit(X=X, y=y)\n",
    "\n",
    "logit_predictions = logit_classifier.predict_proba(pred_test)[:, 1]"
   ]
  },
  {
   "cell_type": "code",
   "execution_count": null,
   "metadata": {
    "collapsed": true
   },
   "outputs": [],
   "source": []
  }
 ],
 "metadata": {
  "kernelspec": {
   "display_name": "Python 2",
   "language": "python",
   "name": "python2"
  },
  "language_info": {
   "codemirror_mode": {
    "name": "ipython",
    "version": 2
   },
   "file_extension": ".py",
   "mimetype": "text/x-python",
   "name": "python",
   "nbconvert_exporter": "python",
   "pygments_lexer": "ipython2",
   "version": "2.7.11"
  }
 },
 "nbformat": 4,
 "nbformat_minor": 0
}
